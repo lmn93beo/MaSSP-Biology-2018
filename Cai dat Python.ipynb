{
 "cells": [
  {
   "cell_type": "markdown",
   "metadata": {},
   "source": [
    "# MaSSP Sinh học 2018\n",
    "# Hướng dẫn cài đặt Python\n",
    "\n",
    "*Soạn bởi: Trương Khanh Nhật Khang, Lê Minh Nhật, 2018*\n",
    "\n",
    "*Tài liệu dịch từ Justin Bois, Bi 1x 2017, http://bi1x.caltech.edu/2017/handouts/setting_up_python_enviornment.html*"
   ]
  },
  {
   "cell_type": "markdown",
   "metadata": {},
   "source": [
    "Trong bài này, chúng ta sẽ cài đặt Python cho việc tính toán khoa học. \n",
    "\n",
    "Có 2 cách chính mọi người thường dùng.\n",
    "1. Tải và cài đặt từng gói một với công cụ như apt-get, pip...\n",
    "2. Tải và cài đặt bộ Python mà chứa tất cả các gói khoa học cần thiết. Những bộ chính là Anaconda và Enthought Canopy.\n",
    "\n",
    "Ở đây, ta sẽ dùng Anaconda và gói quản lí đi kèm `conda` để sử dụng trong việc tính toán khoa học.\n"
   ]
  },
  {
   "cell_type": "markdown",
   "metadata": {},
   "source": [
    "### 1.1 Tải và cài đặt Anaconda\n",
    "1. Vào Anaconda homepage và click “download Anaconda\".\n",
    "2. Nhập email của bạn\n",
    "3. Chắc chắn rằng tải bản Anaconda cho Python 3.6\n",
    "4. Theo chỉ dẫn trên màn hình cho việc cài đặt.\n",
    "\n",
    "Sau đó, ta sẽ kích hoạt gói Python.\n"
   ]
  },
  {
   "cell_type": "markdown",
   "metadata": {},
   "source": [
    "### 1.2 Gói quản lí `conda`\n",
    "`conda` là gói giữ cho tất cả các gói khác cập nhật liên tục. Nó có nhiều hàm dựa trên yêu cầu sử dụng cơ bản (bạn sẽ học được nhiều khi đọc bản giới thiệu này). Tóm lại, ta dùng `conda` để cài đặt và cập nhật các gói dữ liệu.\n",
    "\n",
    "`conda` hoạt động ở command line, để mở command line prompt, làm theo cách sau:\n",
    "\n",
    "* **Mac**: Khởi động kho ưng dụng Terminal, nó thường nằm ở thư mục `/Application/Utilities/`. Hoặc, giữ phím `Command-Space` và nhập terminal trong search box, và bạn co thể chọn ứng dụng trong Terminal.\n",
    "\n",
    "* **Window**: Mở PowerShell. Để làm thế, chọn “search programs and file” ở Start menu và nhập powershell và nhấn emter. Việc này hoạt động giống nhau ở các phiên bản window (hoặc các bạn có thể cài đặt bằng cách mở file setup, cài đặt và mở Ancaconda prompt)\n",
    "\n",
    "* **Linux**: nếu bạn dùng Linux, chắc là bạn đã biết cách để dùng terminal rồi :P\n",
    "\n",
    "Bây giờ ta có command line prompt và bắt đầu sử dụng `conda`. Đầu tiên là phải cập nhật cho `conda`. Để như thế, nhập lệnh dưới đây vào command line:\n",
    "\n",
    "```\n",
    "conda update conda\n",
    "```\n",
    "\n",
    "Và nhấn y để quá trình cập nhật diễn ra.\n",
    "\n",
    "Bây giờ `conda` đã được cập nhật, để thấy các gói hỗ trợ được cài đặt hãy nhập lệnh:\n",
    "\n",
    "```\n",
    "conda list\n",
    "```\n",
    "\n",
    "Ta nhận về một danh sách của tất cả các gói và phiên bản của chúng. Bây giờ ta sẽ cập nhật tất cả, hãy nhập lệnh sau:\n",
    "\n",
    "```\n",
    "conda update --all\n",
    "```\n",
    "\n",
    "Hãy nhớ nhấn y để xác nhận quá trình cập nhật nhé!\n"
   ]
  },
  {
   "cell_type": "markdown",
   "metadata": {},
   "source": [
    "### 1.3. Khỏi động Jupyter notebook\n",
    "Ta sẽ dùng Jupyter notebook trong suốt quá trình học và cả bài tập về nhà. Bây giờ, ta sẽ chạy Jupyter notebook và thực hiện vẽ đồ thị để kiểm tra việc cài đặt lúc trước đã hoạt động. Nếu không, ta sẽ giải quyết nó khi gặp mặt.\n",
    "\n",
    "Để chạy Jupyter notebook, nhập\n",
    "\n",
    "```\n",
    "jupyter notebook\n",
    "```\n",
    "\n",
    "ở command line và nhấn enter. Jupyter sẽ chạy trên trình duyệt web của bạn. \n",
    "\n",
    "Ở góc trên bên phải có một menu, hãy tạo một Python Jupyter notebook mới, một trang tính sẽ xuất hiện ở tab hoặc cửa sổ khác.\n",
    "\n",
    "Ở hàng đầu tiên, hãy copy và paste đoạn code dưới đây. Sau đó nhấn `Shift+enter`, nếu thấy đồ thị bên dưới thì ta đã cái đặt thành công Python.\n"
   ]
  },
  {
   "cell_type": "code",
   "execution_count": 3,
   "metadata": {
    "scrolled": true
   },
   "outputs": [
    {
     "data": {
      "image/png": "[encoded data removed]",
      "text/plain": [
       "<matplotlib.figure.Figure at 0x1be3b224550>"
      ]
     },
     "metadata": {},
     "output_type": "display_data"
    }
   ],
   "source": [
    "import numpy as np\n",
    "import matplotlib.pyplot as plt\n",
    "import seaborn as sns\n",
    "sns.set()\n",
    "\n",
    "%matplotlib inline\n",
    "\n",
    "# Generate x values\n",
    "x = np.linspace(0.0, 10.0, 100)\n",
    "y = x * np.exp(-x)\n",
    "\n",
    "# Generate the plot\n",
    "plt.plot(x, y, 'k-')\n",
    "plt.margins(0.02)\n",
    "plt.xlabel('x', fontsize=14)\n",
    "plt.ylabel('y', fontsize=14);\n"
   ]
  }
 ],
 "metadata": {
  "kernelspec": {
   "display_name": "Python 3",
   "language": "python",
   "name": "python3"
  },
  "language_info": {
   "codemirror_mode": {
    "name": "ipython",
    "version": 3
   },
   "file_extension": ".py",
   "mimetype": "text/x-python",
   "name": "python",
   "nbconvert_exporter": "python",
   "pygments_lexer": "ipython3",
   "version": "3.6.3"
  }
 },
 "nbformat": 4,
 "nbformat_minor": 2
}
