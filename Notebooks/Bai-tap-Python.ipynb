{
 "cells": [
  {
   "cell_type": "markdown",
   "metadata": {},
   "source": [
    "# MASSP SINH HỌC 2018\n",
    "## Ứng dụng của Python trong Sinh học\n",
    "\n",
    "*Soạn bởi: Trương Khánh Nhật Khang, Lê Minh Nhật, 2018*\n",
    "\n",
    "*Dựa theo tài liệu của Justin Bois, Bi 1x 2017, http://bi1x.caltech.edu/2017/handouts/intro_to_python.html*"
   ]
  },
  {
   "cell_type": "markdown",
   "metadata": {},
   "source": [
    "### 1. Tính tổng tích của một dãy số.\n",
    "\n",
    "Trước khi đến với các ứng dụng cụ thể, hãy thử sức với một yêu cầu thường gặp nhất trong toán học và phân tích số liệu, đó là tính tổng và tích của một dãy số đã cho. Với các ứng dụng đặc thù, dãy số này có thể là độ cao, bán kính, chiều dài... cần xử lý hay nhận xét.\n",
    "\n",
    "Các em hãy viết một hàm (function) để tính tổng và tích của một dãy số. Ví dụ, nếu cho dãy \n",
    "\n",
    "`>> day = [1, 2, 3, 4]`\n",
    "\n",
    "Thì gọi function \n",
    "\n",
    "`>> tong_tich(day)` \n",
    "\n",
    "sẽ cho ra một cặp đáp án là `10, 24` tương ứng với tổng và tích của dãy đó.\n",
    "\n",
    "**Gợi ý:** Để tính được tổng, tích một dãy, một cách làm là đi qua từng số của dãy và tính tổng hoặc tích cho phù hợp. Nên lựa chọn hay nhất cho đề bài là lệnh `for` để gọi từng phần tử trong dãy số và tính toán."
   ]
  },
  {
   "cell_type": "code",
   "execution_count": 10,
   "metadata": {
    "collapsed": true
   },
   "outputs": [],
   "source": [
    "#huong dan\n",
    "def tong_tich(day):\n",
    "    '''day: một list các số\n",
    "    Returns: tổng và tích của dãy số đó'''\n",
    "    # TODO: Viết một for loop để tính tổng và tích\n",
    "    # Gợi ý: dùng hai biến sau để bắt đầu vòng lặp\n",
    "    tong = 0\n",
    "    tich = 1\n",
    "    \n",
    "    return tong, tich"
   ]
  },
  {
   "cell_type": "code",
   "execution_count": 11,
   "metadata": {
    "collapsed": true
   },
   "outputs": [],
   "source": [
    "#dap an\n",
    "def tong_tich (day):\n",
    "    tong = 0 \n",
    "    tich = 1\n",
    "    for i in range (0, len (day)-1):\n",
    "        tong = tong + day [i]\n",
    "        tich = tich * day [i]\n",
    "    return tong, tich"
   ]
  },
  {
   "cell_type": "code",
   "execution_count": 3,
   "metadata": {},
   "outputs": [
    {
     "name": "stdout",
     "output_type": "stream",
     "text": [
      "Tong la 10 . Tich la  24\n"
     ]
    }
   ],
   "source": [
    "day = [1, 2, 3, 4, 5]\n",
    "tong, tich = tong_tich (day)\n",
    "print ('Tong la', tong, '. Tich la ', tich)"
   ]
  },
  {
   "cell_type": "markdown",
   "metadata": {},
   "source": [
    "Ngoài ra ta có nhiều cách khác để tính được tổng tích, như là cách dùng numpy sau đây:\n",
    "+ Với biến `tong` ta dùng lệnh `sum()`\n",
    "+ Với biến `tich` ta dùng lệnh `prod()`"
   ]
  },
  {
   "cell_type": "code",
   "execution_count": 12,
   "metadata": {},
   "outputs": [
    {
     "data": {
      "text/plain": [
       "(10, 24)"
      ]
     },
     "execution_count": 12,
     "metadata": {},
     "output_type": "execute_result"
    }
   ],
   "source": [
    "#dap an\n",
    "import numpy as np\n",
    "def tong_tich_numpy(day):\n",
    "    '''day: một numpy array các số\n",
    "    Returns: tổng và tích của dãy số đó'''\n",
    "    \n",
    "    tong = day.sum()\n",
    "    tich = day.prod()\n",
    "    \n",
    "    return tong, tich\n",
    "\n",
    "a = np.array([1,2,3,4])\n",
    "tong_tich_numpy(a)\n"
   ]
  },
  {
   "cell_type": "markdown",
   "metadata": {},
   "source": [
    "### 2. Kiểm tra một đoạn DNA lặp lại bao nhiêu lần trong chuỗi.\n",
    "Như đã biết, gene là một đoạn rất dài, bao gồm chuỗi nucleotit kép liên tiếp nhau. Giả thiết đặt ra ở đây là trong sinh học tổng hợp, ta có được tính trạng mong muốn từ việc điều khiển đoạn DNA cụ thể. Vấn đề đặt ra ở đây là làm sao ta có thể biết được đoạn DNA ở chỗ nào trong gene và nó lặp lại bao nhiêu lần?\n",
    "\n",
    "Để giải quyết yêu cầu đặt ra, hãy viết một chương trình để chỉ ra số lần lặp lại của đoạn DNA trong gene cho trước.\n",
    "\n",
    "Ví dụ ta có \n",
    "\n",
    "`>> chuoi = 'ACTGTACGATCGAGCGATCGAGCGAGTCATTACGACTGAGATCC'`\n",
    "\n",
    "`>> doan = 'GAT'`\n",
    "\n",
    "thì gọi function\n",
    "\n",
    "`>> n_substring(chuoi, doan)`\n",
    "\n",
    "ta sẽ nhận được kết quả là `3` (vì có 3 đoạn GAT trong chuỗi đã cho)\n",
    "\n",
    "**Gợi ý:** Ý tưởng từ đoạn chương trình như sau\n",
    "+ Khi nhập một `chuoi` và một `doan` thì phải chắn chắn là `chuoi` có độ dài nhỏ hơn `doan` nên câu lệnh `if` được sử dụng để kiểm định giả thiết này.\n",
    "+ Khi giả thiết được giải quyết, điều cần làm là chạy hết gene để xem DNA nào phù hợp không. Vì thế lệnh `for` sử dụng nhằm lặp lại `i` lần, mỗi lần một khoảng khác nhau từ `i:i+len(doan)` nghĩa là mỗi lần một khoảng độ dài bằng đoạn DNA cần tìm.\n",
    "+ Chú ý yêu cầu đề bài là tìm số DNA có trong gene, nên cần một biến `num_doan` để xuất ra kết quả."
   ]
  },
  {
   "cell_type": "code",
   "execution_count": null,
   "metadata": {
    "collapsed": true
   },
   "outputs": [],
   "source": [
    "#huong dan\n",
    "def n_substring(chuoi, doan):\n",
    "    '''chuoi, doan: môt dãy DNA cần kiểm tra\n",
    "    Return: số lần lặp lại của đoạn trong chuỗi'''\n",
    "    #TODO: dùng lệnh điều kiện để kiểm tra dộ dài chuỗi và đoạn và looops đề tìm số lần lặp\n",
    "    if '''đoạn dài hơn chuỗi''':\n",
    "        return 0\n",
    "    for i in '''từng khoảng muốn kiểm tra''':\n",
    "        if '''chuỗi giống với đoạn''':\n",
    "            num_doan += 1\n",
    "        return num_doan"
   ]
  },
  {
   "cell_type": "code",
   "execution_count": 13,
   "metadata": {
    "collapsed": true
   },
   "outputs": [],
   "source": [
    "#dap an\n",
    "def n_substring(chuoi, doan):\n",
    "    if len(doan) > len(chuoi) :\n",
    "        return 0\n",
    "    num_doan = 0\n",
    "    for i in range(0, len(chuoi)-len(doan)+1):\n",
    "        if chuoi [i:i+len(doan)] == doan:\n",
    "            num_doan += 1\n",
    "    return num_doan"
   ]
  },
  {
   "cell_type": "code",
   "execution_count": 5,
   "metadata": {
    "scrolled": true
   },
   "outputs": [
    {
     "name": "stdout",
     "output_type": "stream",
     "text": [
      "co 3 doan GAT trong chuoi da cho.\n"
     ]
    }
   ],
   "source": [
    "chuoi = 'ACTGTACGATCGAGCGATCGAGCGAGTCATTACGACTGAGATCC'\n",
    "doan = 'GAT'\n",
    "n_lap = n_substring(chuoi, doan)\n",
    "print('co %d doan GAT trong chuoi da cho.' % n_lap)"
   ]
  },
  {
   "cell_type": "markdown",
   "metadata": {},
   "source": [
    "### 3. Bài toán ước lượng trung bình\n",
    "\n",
    "Trong khoa học luôn phải làm quen với sai số từ thiết bị đo, phương pháp thực nghiệm hay từ các yếu tố tự nhiên khác (ví dụ trong vườn nhà sẽ không có hai cây nào có độ cao hoàn toàn giống nhau). \n",
    "\n",
    "Hãy đến với ví dụ trong Sinh học: tính chiều cao trung bình của vườn cây nhà chị Trinh. Điều kiện tăng trưởng không đồng đều, thêm vào đó là sai sót khách quan làm cho số liệu cuối cùng không thực sự chính xác. \n",
    "\n",
    "Yêu cầu của bài này là hãy ước lượng chiều cao trung bình của cây trong khu vườn, cho biết ghi nhận chiều cao các loại cây như sau.\n",
    "\n",
    "| *Chiều cao (m)*        | 2.0 | 2.2 | 2.4 | 2.6 | 2.8 | 3.0 | 3.2 |\n",
    "| ---------------------- |:---:|:---:|:---:|:---:|:---:|:---:|:---:|\n",
    "| *Số lượng*             |2    |5    |7    |15   |10   |8    |4    | \n",
    " \n",
    "\n",
    "Với số liệu trên, các em hãy tính chiều cao trung bình, $t_b$, và *khoảng ước lượng* của độ cao trung bình đó. *Khoảng ước lượng* là một khoảng gồm giới hạn trên và giới hạn dưới. Khoảng ước lượng càng hẹp thì em càng tự tin về chiều cao trung bình mà em tính được.\n",
    "\n",
    "Ví dụ, nếu tất cả các cây nhà chị Trinh đều cao 3.0 m thì chiều cao trung bình $t_b = 3.0$ và khoảng ước lượng là $(3.0, 3.0)$ do các em chắc chắn là độ cao trung bình là 3.0 m.\n",
    "\n",
    "Ngược lại, nếu em có 50 cây cao 2.0 m và 50 cây cao 4.0 m thì chiều cao trung bình vẫn là $t_b = 3.0$ nhưng khoảng ước lượng sẽ rộng hơn $( 2.4 ; 3.6 )$. Khoảng này có ý nghĩa là: với mức độ tin cậy là 95%, em có thể chắc chắn là độ cao trung bình của cây nằm giữa 2.4 m và 3.6 m.\n",
    "\n",
    "Một chú ý nhỏ về thuật ngữ: *bề rộng của khoảng ước lượng*, viết tắt là $\\epsilon$, cho em biết khoảng ước lượng rộng bao nhiêu. Trong ví dụ trên, $\\epsilon = 0.6$, và khoảng ước lượng là $(3.0 - \\epsilon; 3.0 + \\epsilon) = (2.4; 3.6)$.\n",
    "\n",
    "*Công thức tính $\\epsilon$* (Các em không cần biết cách chứng minh công thức này)\n",
    "\n",
    "$$\\epsilon = \\frac{Z_a t_b}{\\sqrt{N}}$$ \n",
    "\n",
    "Trong đó:\n",
    "+ $Z_a = 1.96$ là một hằng số ứng với mức độ tin cậy là 95%.\n",
    "+ $t_b$ là chiều cao trung bình\n",
    "+ $N$ là số cây\n",
    "\n",
    "\n",
    "Ví dụ như bài toán trên, ta sẽ có input sẽ là\n",
    "\n",
    "`>> chieu_cao = np.array([2.0,2.2,2.4,2.6,2.8,3.0,3.2])`\n",
    "\n",
    "`>> so_luong = np.array([2,5,7,15,10,8,4])`\n",
    "\n",
    "`>> Za = 1.96`\n",
    "\n",
    "sau đó gọi funtion \n",
    "\n",
    "`>> khoang_uoc_luong (Za, chieu_cao, so_luong)`\n",
    "\n",
    "và ta được output là \n",
    "\n",
    "`>> khoang uoc luong la ( 0.8657882324756331 ; 2.359743682417984 )`"
   ]
  },
  {
   "cell_type": "code",
   "execution_count": 36,
   "metadata": {
    "collapsed": true
   },
   "outputs": [],
   "source": [
    "#huong dan\n",
    "#TODO: dùng sum() để tính tổng N, lệnh for để tính trung bình, áp dụng công thức để tính epsilon\n",
    "import numpy as np#để nhập hàm numpy vào python\n",
    "def khoang_uoc_luong(Za, chieu_cao, so_luong):#mở đầu cho các công thức khoảng ước lượng\n",
    "    '''Za: hằng số ứng với độ tin cậy (thường là 1.96 cho độ tin cậy 95%)\n",
    "    chieu_cao: numpy array ứng với chiều cao của cây\n",
    "    so_luong: numpy array ứng với số lượng của cây có chiều cao đó\n",
    "    Output: tb: chieu cao trung binh\n",
    "    epsilon: bề rộng của khoảng ước lượng'''\n",
    "    \n",
    "    #TODO: nhập các công thức tìm epsilon và tb#\n",
    "    return tb, epsilon "
   ]
  },
  {
   "cell_type": "code",
   "execution_count": 37,
   "metadata": {
    "collapsed": true
   },
   "outputs": [],
   "source": [
    "#dap an\n",
    "import numpy as np\n",
    "def khoang_uoc_luong (Za, chieu_cao, so_luong):\n",
    "    '''Za: hằng số ứng với độ tin cậy (thường là 1.96 cho độ tin cậy 95%)\n",
    "    chieu_cao: numpy array ứng với chiều cao của cây\n",
    "    so_luong: numpy array ứng với số lượng của cây có chiều cao đó\n",
    "    Output: tb: chieu cao trung binh\n",
    "    epsilon: bề rộng của khoảng ước lượng'''\n",
    "    N = so_luong.sum()\n",
    "    tong = (chieu_cao * so_luong).sum()\n",
    "    \n",
    "    tb = tong / N\n",
    "    epsilon = (Za*tb)/np.sqrt(N)\n",
    "    return tb, epsilon"
   ]
  },
  {
   "cell_type": "code",
   "execution_count": 38,
   "metadata": {},
   "outputs": [
    {
     "name": "stdout",
     "output_type": "stream",
     "text": [
      "Trung bình là 2.65882352941 . Epsilon là 0.729727136495\n",
      "khoang uoc luong la ( 1.92909639292 ; 3.38855066591 )\n"
     ]
    }
   ],
   "source": [
    "chieu_cao = np.array([2.0,2.2,2.4,2.6,2.8,3.0,3.2])\n",
    "so_luong = np.array([2,5,7,15,10,8,4])\n",
    "\n",
    "Za = 1.96\n",
    "tb, epsilon = khoang_uoc_luong(1.96, chieu_cao, so_luong)\n",
    "print('Trung bình là', tb, '. Epsilon là', epsilon)\n",
    "print('khoang uoc luong la (',tb-epsilon,';',tb+epsilon,')')"
   ]
  },
  {
   "cell_type": "markdown",
   "metadata": {},
   "source": [
    "### 4. Độ dài trung bình và kiểm định trung bình.\n",
    "\n",
    "Sau khi trồng vườn, chị Trinh tiếp tục nuôi một đàn sâu. Sau thời gian tăng trưởng mỗi con sâu sẽ có độ dài khác nhau nên để nắm bắt được đàn sâu phát triển đến giai đoạn nào, anh ấy phải tìm độ dài trung bình của đàn sâu đó.\n",
    "\n",
    "Nhận thấy đàn sâu không mạnh mẽ như mong muốn, chị Trinh điều chỉnh gene trên thế hệ sau. Đến thời gian tương ứng chị tiếp tục đo độ dài nhưng lại không biết đoạn DNA đã sửa có hiệu quả lên chiều dài đàn sâu hay không? nếu không chị phải tìm đoạn DNA khác để điều chỉnh và đo lại ở thế hệ khác.\n",
    "\n",
    "Chị Trinh cung cấp số liệu độ dài đàn sâu như sau\n",
    "\n",
    "đàn 1 (trước biến đổi): `4.2, 4.7, 4.6, 4.5, 4.7, 5`\n",
    "\n",
    "đàn 2 (sau biến đổi): `5.2, 6.8, 5.6, 5.7, 5.3, 5.2`\n",
    "\n",
    "Vấn đề các em phải giúp chị Trinh là: liệu chỉnh sửa DNA của chị có giúp tăng độ dài trung bình của sâu?\n",
    "\n",
    "Thoạt nhìn, các em sẽ nghĩ: \"Oh dễ quá, cứ tìm độ dài trung bình của hai đàn rồi so sánh thôi\".\n",
    "\n",
    "Chúng ta hãy thử làm theo đề xuất của các em trước."
   ]
  },
  {
   "cell_type": "code",
   "execution_count": 53,
   "metadata": {},
   "outputs": [
    {
     "name": "stdout",
     "output_type": "stream",
     "text": [
      "trung bình trước đột biến là 4.61666666667 trung bình sau đột biến là 4.65\n"
     ]
    }
   ],
   "source": [
    "dan1 = np.array([4.2, 4.7, 4.6, 4.5, 4.7, 5])\n",
    "dan2 = np.array([4.1, 5.2, 4.8, 4.9, 4.5, 4.4])\n",
    "\n",
    "#TODO: Tính trung bình hai đàn sâu\n",
    "tb1 = np.mean(dan1)\n",
    "tb2 = np.mean(dan2)\n",
    "print('trung bình trước đột biến là',tb1, 'trung bình sau đột biến là', tb2)"
   ]
  },
  {
   "cell_type": "markdown",
   "metadata": {},
   "source": [
    "Ok xonggg! Chiều cao trung bình sau đột biến lớn hơn trước đột biến. Vậy đột biến gene của chị Trinh có tác dụng!!!\n",
    "\n",
    "Từ từ :) \n",
    "\n",
    "Lưu ý đầu tiên mà em thấy là: sự chênh lệch giữa hai trung bình này rất nhỏ, 4.617 so với 4.65 tức là chỉ 0.6%. \n",
    "\n",
    "Tiếp theo, nếu ta vẽ đồ thị sự phân bố chiều cao của sâu:\n",
    "\n"
   ]
  },
  {
   "cell_type": "code",
   "execution_count": 65,
   "metadata": {},
   "outputs": [
    {
     "data": {
      "image/png": "[encoded data removed]",
      "text/plain": [
       "<matplotlib.figure.Figure at 0x187e6924be0>"
      ]
     },
     "metadata": {},
     "output_type": "display_data"
    }
   ],
   "source": [
    "import matplotlib.pyplot as plt\n",
    "\n",
    "%matplotlib inline\n",
    "\n",
    "plt.plot(np.ones(len(dan1)), dan1, 'b.')\n",
    "plt.plot(np.ones(len(dan2)) * 2, dan2, 'b.')\n",
    "\n",
    "plt.xticks([1, 2], ['Trước đột biến', 'Sau đột biến'])\n",
    "plt.ylabel('Chiều cao');\n"
   ]
  },
  {
   "cell_type": "markdown",
   "metadata": {},
   "source": [
    "Các em sẽ nhận ra là có vẻ đột biến gene của chị Trinh có vẻ không giúp ích gì mấy. Nếu có tác dụng thì nó chỉ làm tăng độ dao động của chiều cao mà thôi. Sở dĩ ta thấy trung bình tăng lên là vì dao động ngẫu nhiên trong chiều cao đã vô tình đẩy chiều cao trung bình lên, chứ biến đổi gene thật ra không có tác dụng.\n",
    "\n",
    "Theo ngôn ngữ thống kê thì sự thay đổi của chiều cao trung bình là không *có ý nghĩa* (not statistically significant)."
   ]
  },
  {
   "cell_type": "markdown",
   "metadata": {},
   "source": [
    "Làm sao để đánh giá sự thay đổi có ý nghĩa hay không? Có nhiều phương pháp nhưng ta hãy dùng phương pháp tính khoảng ước lượng như ở phần 3"
   ]
  },
  {
   "cell_type": "code",
   "execution_count": 72,
   "metadata": {},
   "outputs": [
    {
     "name": "stdout",
     "output_type": "stream",
     "text": [
      "Trước khi đột biến:\n",
      "Trung bình là 4.61666666667 . Epsilon là 3.69410269764\n",
      "Khoảng ước lượng là ( 0.922563969023 ; 8.31076936431 )\n",
      "\n",
      "Sau khi đột biến:\n",
      "Trung bình là 4.65 . Epsilon là 3.72077491929\n",
      "Khoảng ước lượng là ( 0.929225080712 ; 8.37077491929 )\n"
     ]
    }
   ],
   "source": [
    "dan1 = np.array([4.2, 4.7, 4.6, 4.5, 4.7, 5])\n",
    "dan2 = np.array([4.1, 5.2, 4.8, 4.9, 4.5, 4.4])\n",
    "so_luong = np.array([1, 1, 1, 1, 1, 1])\n",
    "Za = 1.96\n",
    "\n",
    "tb1, epsilon1 = khoang_uoc_luong(1.96, dan1, so_luong)\n",
    "print('Trước khi đột biến:')\n",
    "print('Trung bình là', tb1, '. Epsilon là', epsilon1)\n",
    "print('Khoảng ước lượng là (',tb1 - epsilon1,';',tb1 + epsilon1,')')\n",
    "\n",
    "tb2, epsilon2 = khoang_uoc_luong(1.96, dan2, so_luong)\n",
    "print('\\nSau khi đột biến:')\n",
    "print('Trung bình là', tb2, '. Epsilon là', epsilon2)\n",
    "print('Khoảng ước lượng là (',tb2 - epsilon2,';',tb2 + epsilon2,')')"
   ]
  },
  {
   "cell_type": "markdown",
   "metadata": {},
   "source": [
    "Ta thấy hai khoảng ước lượng này trùng nhau rất đáng kể, tức là độ dài trung bình của hai nhóm có nhiều khả năng là không khác nhau.\n",
    "\n",
    "*Như vậy, việc chỉnh sửa đoạn gene này gây không thay đổi đến độ dài đàn sâu. Tức là thí nghiệm này thất bại hay đoạn DNA đó không phải đoạn cần tìm.*"
   ]
  },
  {
   "cell_type": "markdown",
   "metadata": {},
   "source": [
    "### 6. Tăng trưởng theo cấp số nhân.\n",
    "\n",
    "Trong việc nuôi cấy vi khuẩn (ví dụ như *E.coli*) sau khoảng thời gian nhất định như chu ký sinh sản của vi khuẩn, chúng sẽ bắt đầu quá trình phân đôi và quá trình này lặp đi lặp lại nhiều lần về sau. Tuy nhiên trên thực tế, việc sinh sản này có thể tuân theo cơ số $2$, nhưng để thuẩn tiện trong quá trình tính toán, ta thường sử dụng cơ số $e$ (cơ số của logarit tự nhiên) và đây cũng là con số phù hợp nhất cho rất nhiều quá trình trong các lĩnh vực khác nhau.\n",
    "\n",
    "Anh Lộc bắt đầu tập nuôi vi khuẩn chuẩn bị cho bài thí nghiệm nhưng anh lại không biết vi khuẩn của mình phát triển thế nào sau một ngày, hãy giúp *anh Lộc xinh đẹp* bằng cách viết chương trình lượng vi khuẩn sau một ngày. Ngoài ra, anh Lộc muốn lượng vi khuẩn dùng lại ở 4000/mL và anh ấy muốn biết phải chờ bao lâu để có được con số đó. Cuối cùng, anh muốn vẽ đồ thị về tốc độ tăng trưởng của đàn vi khuẩn anh Lộc đã nuôi.\n",
    "\n",
    "Các em hãy viết hai hàm, `tang_truong` và `thoi_gian` với các yêu cầu như sau\n",
    "\n",
    "* Hàm `tang_truong(V0, t, t0)` lấy ba giá trị là `V0`, số vi khuẩn ban đầu, `t` là thời gian nuôi vi khuẩn và `t0` là chu kỳ sinh sản. Hàm sẽ đưa ra số lượng vi khuẩn sau thời gian `t`.\n",
    "\n",
    "* Hàm `thoi_gian(V0, V, t0)` lấy ba giá trị là `V0`, số vi khuẩn ban đầu, `V` là số lượng vi khuẩn cuối cùng và `t0` là chu kỳ sinh sản. Hàm sẽ đưa ra thời gian cần nuôi vi khuẩn để đạt số lượng `V`.\n",
    "\n",
    "Công thức cho quá trình tăng trưởng vi khuẩn là  $V = V_0 e^{t/t_0}$ với $t_0$ là chu kỳ sinh sản của vi khuẩn.\n",
    "\n",
    "**Áp dụng:** ban đầu anh Lộc có vi khuẩn E.coli với nồng độ 3000/mL, và chu kỳ sinh sản của E.coli là 20 phút.\n",
    "\n",
    "(a) Tính số lượng vi khuẩn sau 1 ngày.\n",
    "\n",
    "(b) Nếu anh Lộc muốn dừng lại ở 4000/mL thì phải đợi bao lâu?\n",
    "\n",
    "(c) Cuối cùng hãy làm theo hướng dẫn ở bài tìm hiểu về python để đưa ra đồ thị về sự phát triển đám vi khuẩn của anh Lộc.\n",
    "\n",
    "\n"
   ]
  },
  {
   "cell_type": "code",
   "execution_count": 73,
   "metadata": {
    "collapsed": true
   },
   "outputs": [],
   "source": [
    "#huong dan\n",
    "#TODO: cần đua ra được output là nồng độ V và thời gian t, chú ý đơn vị của thời gian\n",
    "import numpy as np #dùng để tải hàm numpy, nhằm sử dụng phép tính logarit\n",
    "def tang_truong(V0, t, t0): #lưu ý 3 biến cần thiết\n",
    "    V = V0 * np.exp(t / t0)#dùng công thức của độ tăng trưởng\n",
    "    return V #trả về kết quả\n",
    "def thời_gian(V0, V, t0):\n",
    "    t = np.log(V / V0) * t0 #áp dụng phép tính logarit của cơ số e\n",
    "    return t #trả về kết quả"
   ]
  },
  {
   "cell_type": "code",
   "execution_count": 3,
   "metadata": {
    "collapsed": true
   },
   "outputs": [],
   "source": [
    "#dap an\n",
    "import numpy as np\n",
    "\n",
    "def tang_truong(V0,t,t0):\n",
    "    t=60*24*t\n",
    "    V=V0*np.exp(t/t0)\n",
    "    return V\n",
    "\n",
    "def thoi_gian(V0,V,t0):\n",
    "    t=np.log(V/V0)*t0 \n",
    "    return t"
   ]
  },
  {
   "cell_type": "code",
   "execution_count": 4,
   "metadata": {},
   "outputs": [
    {
     "name": "stdout",
     "output_type": "stream",
     "text": [
      "V = 5.57601523585e+34\n"
     ]
    }
   ],
   "source": [
    "#cau 1\n",
    "V0=3000\n",
    "t=1\n",
    "t0=20\n",
    "V = tang_truong(V0,t,t0)\n",
    "print('V =',V)"
   ]
  },
  {
   "cell_type": "code",
   "execution_count": 5,
   "metadata": {},
   "outputs": [
    {
     "name": "stdout",
     "output_type": "stream",
     "text": [
      "t =  5.75364144904\n"
     ]
    }
   ],
   "source": [
    "#cau 2\n",
    "V0=3000\n",
    "V=4000\n",
    "t0=20\n",
    "t=thoi_gian(V0,V,t0)\n",
    "print('t = ',t)"
   ]
  },
  {
   "cell_type": "code",
   "execution_count": 7,
   "metadata": {},
   "outputs": [],
   "source": [
    "#ve do thi\n",
    "import numpy as np\n",
    "import matplotlib.pyplot as plt\n",
    "import seaborn as sns\n",
    "sns.set()\n",
    "\n",
    "V0=3000\n",
    "t0=20\n",
    "t = np.linspace(0.0, 10.0, 100)\n",
    "V = V0 * np.exp(t/t0)\n",
    "\n",
    "plt.plot(t, V, 'k-')\n",
    "plt.margins(0.02)\n",
    "plt.xlabel('t', fontsize=14)\n",
    "plt.ylabel('Số lượng vi khuẩn', fontsize=14);"
   ]
  },
  {
   "cell_type": "code",
   "execution_count": null,
   "metadata": {
    "collapsed": true
   },
   "outputs": [],
   "source": []
  }
 ],
 "metadata": {
  "kernelspec": {
   "display_name": "Python 3",
   "language": "python",
   "name": "python3"
  },
  "language_info": {
   "codemirror_mode": {
    "name": "ipython",
    "version": 3
   },
   "file_extension": ".py",
   "mimetype": "text/x-python",
   "name": "python",
   "nbconvert_exporter": "python",
   "pygments_lexer": "ipython3",
   "version": "3.6.3"
  }
 },
 "nbformat": 4,
 "nbformat_minor": 2
}
