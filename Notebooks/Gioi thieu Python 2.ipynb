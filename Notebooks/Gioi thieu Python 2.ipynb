{
 "cells": [
  {
   "cell_type": "markdown",
   "metadata": {},
   "source": [
    "# MASSP SINH HỌC 2018\n",
    "## Giới thiệu về Python: Numpy, `for` và `if`, hàm trong Python\n",
    "\n",
    "*Soạn bởi: Trương Khánh Nhật Khang, Lê Minh Nhật, 2018*\n",
    "\n",
    "*Tài liệu dịch từ Justin Bois, Bi 1x 2017, http://bi1x.caltech.edu/2017/handouts/intro_to_python.html*"
   ]
  },
  {
   "cell_type": "markdown",
   "metadata": {},
   "source": [
    "### 3.1. Modules\n",
    "\n",
    "Các phần mềm khoa khọc như Matlab hay Mathematica thường được tối ưu cho tính toán khoa học với đầy đủ các tính năng. Mặt khác, Python là một ngôn ngữ lập trình và không được thiết kế cho việc tính toán khoa học. Do đó, ngôn ngữ Python căn bản cực kì giới hạn trong việc tính toán và thống kê dữ liệu.\n",
    "\n",
    "Tuy nhiên, Python ưu việt khi cho phép người sử dụng cài đặt thêm các modules (mô-đun). Một module chứa nhiều classes (lớp), functions (hàm), attributes (thuộc tính), data types (loại dữ liệu) … thêm vào những thứ có sẵn của Python. Để sử dụng một module, các em cần import (tải, đưa vào) module đó. Trong chương trình MaSSP thì các em cần import một số modules (tải các mô-đun) thông dụng.\n",
    "\n",
    "Các em hãy nhớ là phải import một module để sử dụng các tính năng của nó. Bây giờ chúng ta sẽ import một trong những module chính trong chương trình, NumPy!\n"
   ]
  },
  {
   "cell_type": "code",
   "execution_count": 7,
   "metadata": {},
   "outputs": [
    {
     "name": "stdout",
     "output_type": "stream",
     "text": [
      "circumference / diameter =  3.141592653589793\n",
      "cos(pi) =  -1.0\n"
     ]
    }
   ],
   "source": [
    "import numpy as np\n",
    "\n",
    "# Sau khi import, ta có thể lấy được vài giá trị thú vị\n",
    "print('circumference / diameter = ', np.pi)\n",
    "print('cos(pi) = ', np.cos(np.pi))"
   ]
  },
  {
   "cell_type": "markdown",
   "metadata": {},
   "source": [
    "Chú ý cú pháp `np.[tên của giá trị hoặc hàm]`. Ở dòng đầu tiên (`import numpy as np`), chúng ta đã import module numpy và sẽ gọi tên module này là `np` trong những câu lệnh kế tiếp.\n",
    "\n",
    "Để gọi những giá trị (như `pi`) hoặc hàm (như `cos`) có trong gói numpy, các em phải gọi tên gói (`np`) trước giá trị hay hàm đó."
   ]
  },
  {
   "cell_type": "markdown",
   "metadata": {},
   "source": [
    "### 3.2. For loop và Numpy array\n",
    "\n",
    "Các em còn nhớ list mà ta đã tạo trong bài trước không?"
   ]
  },
  {
   "cell_type": "code",
   "execution_count": 2,
   "metadata": {
    "collapsed": true
   },
   "outputs": [],
   "source": [
    "beak_depths= [8.8, 8.9, 8.1, 9.1, 8.8, 7.9, 8.4, 8.4, 9.0, 9.1, 8.5]"
   ]
  },
  {
   "cell_type": "markdown",
   "metadata": {},
   "source": [
    "Ở bài trước, ta đã biết cách sắp xếp list này và biết được các chỉ số quan trọng dựa vào list được sắp xếp.\n",
    "\n",
    "Tuy nhiên, có một số câu hỏi quan trọng mà ta chưa trả lời:\n",
    "\n",
    "* Độ dày trung bình của mỏ chim là bao nhiêu?\n",
    "\n",
    "* Độ dày mỏ chim phân tán như thế nào quanh độ dày trung bình? Chúng tập trung gần hay rải rác xa giá trị trung bình đó?\n",
    "\n",
    "Để trả lời hai câu hỏi đó, ta cần tính *trung bình* và *độ lệch chuẩn* của dãy số đo trên. Đây là lúc chúng ta giới thiệu cho các em cách dùng **vòng lặp (for loop)** trong Python."
   ]
  },
  {
   "cell_type": "markdown",
   "metadata": {},
   "source": [
    "### For loop:\n",
    "\n",
    "Để tính độ dày trung bình, ta cần tìm tổng tất cả các phần tử trong list. Đây là thời điểm hợp lí để giới thiệu với các em về một khái niệm quan trọng trong lập trình: *vòng lặp*.\n",
    "\n",
    "Việc lập trình trở nên quan trọng khi các em muốn máy tính lặp đi lặp lại một công việc, một tính toán nào đó mà thường phải mất nhiều thời gian hay rất nhàm chán để làm. Ví dụ, để tính tổng của dãy, các em hoàn toàn có thể viết\n",
    "\n",
    "``8.8 + 8.9 + 8.1 + 9.1 + 8.8 + 7.9 + 8.4 + 8.4 + 9.0 + 9.1 + 8.5``\n",
    "\n",
    "vào ô lệnh Python. Tuy nhiên, để gõ ra tất cả câu lệnh trên, hẳn các em cũng đã thấy mất nhiều công sức như thế nào! Nếu dãy số dài hơn nữa thì không biết bao giờ mới xong!\n",
    "\n",
    "Đây là lúc vòng lặp trở nên quan trọng. Để tính tổng của dãy số, ta dùng vòng lặp như sau:\n"
   ]
  },
  {
   "cell_type": "code",
   "execution_count": 3,
   "metadata": {},
   "outputs": [
    {
     "name": "stdout",
     "output_type": "stream",
     "text": [
      "Tổng của dãy số là:  95.0\n"
     ]
    }
   ],
   "source": [
    "sum = 0\n",
    "for depth in beak_depths:\n",
    "    sum += depth\n",
    "    \n",
    "print('Tổng của dãy số là: ', sum)"
   ]
  },
  {
   "cell_type": "markdown",
   "metadata": {},
   "source": [
    "Anh sẽ giải thích rõ hơn câu lệnh trên. Ý tưởng của câu lệnh là có một biến `sum` dùng để nhớ tổng của dãy số khi ta lướt qua từng giá trị một trong dãy. Ta sẽ lặp qua dãy số, tại mỗi phần tử, ta cộng biến `sum` này cho phần tử đó.\n",
    "\n",
    "Ban đầu, ta gán giá trị `sum = 0` vì tổng lúc chưa có gì phải là 0. Sau đó `for depth in beak_depths:` có tác dụng lặp qua từng phần tử một trong `beak_depths`, tại mỗi phần tử, `depth` sẽ lấy giá trị của phần tử đó.\n",
    "\n",
    "Tại mỗi vòng lặp, câu lệnh dưới sẽ được thực hiện: `sum += depth`. Câu này có nghĩa là ta sẽ cộng thêm `depth` vào giá trị của `sum`.\n",
    "\n",
    "\n",
    "\n"
   ]
  },
  {
   "cell_type": "markdown",
   "metadata": {},
   "source": [
    "Sau khi có tổng rồi thì tính trung bình trở nên dễ dàng. Chú ý lệnh `len` cho ta số phần tử của dãy."
   ]
  },
  {
   "cell_type": "code",
   "execution_count": 6,
   "metadata": {},
   "outputs": [
    {
     "name": "stdout",
     "output_type": "stream",
     "text": [
      "Độ dày mỏ trung bình là:  8.636363636363637\n"
     ]
    }
   ],
   "source": [
    "mean = sum / len(beak_depths)\n",
    "\n",
    "print('Độ dày mỏ trung bình là: ', mean)\n"
   ]
  },
  {
   "cell_type": "markdown",
   "metadata": {},
   "source": [
    "Để tính độ lệch chuẩn (standard deviation), ta cộng bình phương độ lệch tới trung bình. Chú ý công thức tính độ lệch chuẩn là $\\sqrt{\\frac{1}{N}\\sum_{i=1}^N (x_i-\\bar{x})^2}$"
   ]
  },
  {
   "cell_type": "code",
   "execution_count": 9,
   "metadata": {},
   "outputs": [
    {
     "name": "stdout",
     "output_type": "stream",
     "text": [
      "Độ lệch chuẩn của mỏ chim:  0.386764497931\n"
     ]
    }
   ],
   "source": [
    "std = 0\n",
    "for depth in beak_depths:\n",
    "    std += (depth - mean)**2\n",
    "    \n",
    "std = np.sqrt(std / len(beak_depths))\n",
    "print('Độ lệch chuẩn của mỏ chim: ', std)"
   ]
  },
  {
   "cell_type": "markdown",
   "metadata": {},
   "source": [
    "### Numpy array: thật là tiện lợi"
   ]
  },
  {
   "cell_type": "markdown",
   "metadata": {},
   "source": [
    "Nếu các em lập trình quen, dùng vòng lặp for để tính tổng và độ lệch chuẩn không phải là khó. Nhưng nếu mỗi lần tính toán trên một dãy số mà phải viết một vòng lặp thì thật là mệt mỏi...\n",
    "\n",
    "Đây là lúc mà `numpy array` cực kì hữu hiệu và tiện lợi. Do các tính năng mà anh sẽ giới thiệu về công cụ này, anh khuyến khích các em *nên dùng numpy array trong việc tính toán khoa học, thay vì dùng list*.\n",
    "\n",
    "Để tạo numpy array, ta dùng cú pháp sau\n"
   ]
  },
  {
   "cell_type": "code",
   "execution_count": 11,
   "metadata": {
    "collapsed": true
   },
   "outputs": [],
   "source": [
    "beak_depths_arr = np.array([8.8, 8.9, 8.1, 9.1, 8.8, 7.9, 8.4, 8.4, 9.0, 9.1, 8.5])"
   ]
  },
  {
   "cell_type": "markdown",
   "metadata": {},
   "source": [
    "Bây giờ ta hãy xem vì sao array dễ sử dụng hơn list rất nhiều. Giả sử các em muốn cộng mỗi phần tử của array này thêm 1.0. Nếu dùng list, các em phải viết một vòng lặp for để thực hiện. Trong khi đó, dùng numpy array các em chỉ việc viết\n",
    "\n"
   ]
  },
  {
   "cell_type": "code",
   "execution_count": 13,
   "metadata": {},
   "outputs": [
    {
     "name": "stdout",
     "output_type": "stream",
     "text": [
      "List ban đầu:  [ 8.8  8.9  8.1  9.1  8.8  7.9  8.4  8.4  9.   9.1  8.5]\n",
      "Sau khi cộng 1.0: [  9.8   9.9   9.1  10.1   9.8   8.9   9.4   9.4  10.   10.1   9.5]\n"
     ]
    }
   ],
   "source": [
    "print('List ban đầu: ', beak_depths_arr)\n",
    "print('Sau khi cộng 1.0:', beak_depths_arr + 1.0)"
   ]
  },
  {
   "cell_type": "markdown",
   "metadata": {},
   "source": [
    "Các phép tính tương tự:"
   ]
  },
  {
   "cell_type": "code",
   "execution_count": 14,
   "metadata": {},
   "outputs": [
    {
     "name": "stdout",
     "output_type": "stream",
     "text": [
      "Sau khi nhân đôi:  [ 17.6  17.8  16.2  18.2  17.6  15.8  16.8  16.8  18.   18.2  17. ]\n",
      "Sau khi bình phương:  [ 77.44  79.21  65.61  82.81  77.44  62.41  70.56  70.56  81.    82.81\n",
      "  72.25]\n",
      "Sau khi căn bậc hai:  [ 2.96647939  2.98328678  2.84604989  3.01662063  2.96647939  2.81069386\n",
      "  2.89827535  2.89827535  3.          3.01662063  2.91547595]\n"
     ]
    }
   ],
   "source": [
    "print('Sau khi nhân đôi: ', beak_depths_arr * 2)\n",
    "print('Sau khi bình phương: ', beak_depths_arr**2)\n",
    "print('Sau khi căn bậc hai: ', np.sqrt(beak_depths_arr))"
   ]
  },
  {
   "cell_type": "markdown",
   "metadata": {},
   "source": [
    "Thật là tiện phải không?"
   ]
  },
  {
   "cell_type": "markdown",
   "metadata": {},
   "source": [
    "Cuối cùng, `numpy array` cho chúng ta trả lời được câu hỏi ban đầu trong phần này rất dễ dàng:"
   ]
  },
  {
   "cell_type": "code",
   "execution_count": 16,
   "metadata": {},
   "outputs": [
    {
     "name": "stdout",
     "output_type": "stream",
     "text": [
      "Trung bình độ dày mỏ:  8.63636363636\n",
      "Độ lệch chuẩn:  0.386764497931\n",
      "Độ dày mỏ lớn nhất:  9.1\n",
      "Độ dày mỏ nhỏ nhất:  7.9\n"
     ]
    }
   ],
   "source": [
    "print('Trung bình độ dày mỏ: ', beak_depths_arr.mean())\n",
    "print('Độ lệch chuẩn: ', beak_depths_arr.std())\n",
    "print('Độ dày mỏ lớn nhất: ', beak_depths_arr.max())\n",
    "print('Độ dày mỏ nhỏ nhất: ', beak_depths_arr.min())"
   ]
  },
  {
   "cell_type": "markdown",
   "metadata": {},
   "source": [
    "### 3.3. Viết một hàm Python đơn giản"
   ]
  },
  {
   "cell_type": "markdown",
   "metadata": {},
   "source": [
    "Hãy tạo chương trình giải phương trình bậc hai $$ax^2+bx+c=0$$\n",
    "Để tính được nghiệm phương trình, đầu tiên ta phải biệt điều kiện Delta của nó, sau đó mới tính nghiệm là gì.\n"
   ]
  },
  {
   "cell_type": "code",
   "execution_count": 19,
   "metadata": {
    "collapsed": true
   },
   "outputs": [],
   "source": [
    "def discriminant(a, b, c):\n",
    "    \"\"\"\n",
    "    Tính delta của phương trình bậc hai\n",
    "    a * x**2 + b * x + c = 0.    \n",
    "    \"\"\"\n",
    "    return b**2 - 4.0 * a * c\n",
    "\n",
    "\n",
    "def roots(a, b, c):\n",
    "    \"\"\"\n",
    "    Tính nghiệm của phương trình\n",
    "    a * x**2 + b * x + c = 0.\n",
    "    \"\"\" \n",
    "    delta = discriminant(a, b, c)\n",
    "    root_1 = (-b + np.sqrt(delta)) / (2.0 * a)\n",
    "    root_2 = (-b - np.sqrt(delta)) / (2.0 * a)\n",
    "    \n",
    "    return root_1, root_2"
   ]
  },
  {
   "cell_type": "markdown",
   "metadata": {},
   "source": [
    "Ở đây có vài cú pháp ta cần lưu ý là:\n",
    "\n",
    "* Một function sẽ được xác định bới lệnh `def`, nó sẽ chứa cus pháp của function và kết thúc bằng dấu hai chấm.\n",
    "* Thụt lề trong Python! Bất cứ thụt lề nào sau lệnh `def` sẽ năm trong function đó. Nếu đầu dòng ngang với đầu dòng của lệnh `def` thì các câu lệnh không còn nằm trong function nữa.\n",
    "* Lệnh `return` được dùng đề xuất kết quả của function. Khi có nhiều object (kết quả) xuất hiện, nó sẽ được ngăn cách bởi dấu phẩy.\n",
    "* Đoạn trong dấu ngoặc kép `\"\"\"` (hoặc ta có thể dùng `#`) gọi là doc string. Vai trò là giải thích chức năng của fuction, nhằm giúp người đọc hiểu được đoạn code đang làm gì.\n",
    "\n",
    "Hãy thử xem function này có hoạt động không!\n",
    "\n"
   ]
  },
  {
   "cell_type": "code",
   "execution_count": 22,
   "metadata": {},
   "outputs": [
    {
     "name": "stdout",
     "output_type": "stream",
     "text": [
      "Nghiệm: 3.0 -0.666666666667\n"
     ]
    }
   ],
   "source": [
    "# Cách để gán nhiều biến cùng lúc\n",
    "a, b, c = 3.0, -7.0, -6.0\n",
    "\n",
    "# Gọi function và báo kết quả\n",
    "root_1, root_2 = roots(a, b, c)\n",
    "print('Nghiệm:', root_1, root_2)\n"
   ]
  },
  {
   "cell_type": "markdown",
   "metadata": {},
   "source": [
    "Rất tốt!! Bây giờ hãy thử một thứ khác, nó sẽ có vấn đề là…\n"
   ]
  },
  {
   "cell_type": "code",
   "execution_count": 24,
   "metadata": {},
   "outputs": [
    {
     "name": "stdout",
     "output_type": "stream",
     "text": [
      "roots: nan nan\n"
     ]
    },
    {
     "name": "stderr",
     "output_type": "stream",
     "text": [
      "C:\\Users\\Le\\Anaconda3b\\lib\\site-packages\\ipykernel_launcher.py:15: RuntimeWarning: invalid value encountered in sqrt\n",
      "  from ipykernel import kernelapp as app\n",
      "C:\\Users\\Le\\Anaconda3b\\lib\\site-packages\\ipykernel_launcher.py:16: RuntimeWarning: invalid value encountered in sqrt\n",
      "  app.launch_new_instance()\n"
     ]
    }
   ],
   "source": [
    "# Cho a, b, c mà sẽ có nghiệm ảo\n",
    "a, b, c = 1.0, -2.0, 2.0\n",
    "\n",
    "# Gọi function và báo kết quả\n",
    "root_1, root_2 = roots(a, b, c)\n",
    "print('roots:', root_1, root_2)\n",
    "\n"
   ]
  },
  {
   "cell_type": "markdown",
   "metadata": {},
   "source": [
    "Kết quả nhận về là `nan`, tức là “không phải một số” (not a number). Đồng thời cảnh báo là chương trình bắt gặp các argument không hợp lệ (phần ảo) vì tính chất của lệnh `np.sqrt()`. Nghiệm của nó sẽ là $1 \\pm i$, với $i=\\sqrt{−1}$. Đây là lúc các dòng lệnh điều kiện trong Python phát huy công dụng của nó, tiêu biểu là lệnh điều kiện `if`.\n"
   ]
  },
  {
   "cell_type": "markdown",
   "metadata": {},
   "source": [
    "### 3.4. Câu lệnh điều kiện `if`"
   ]
  },
  {
   "cell_type": "markdown",
   "metadata": {},
   "source": [
    "Cơ bản thì những phương trình bậc hai sẽ cho ra nghiệm thực, nên khi chúng gặp nghiệm phức thì sẽ không chấp nhận phần ảo $i$. Thế nền ta cần sửa lại function này một chút\n"
   ]
  },
  {
   "cell_type": "code",
   "execution_count": 25,
   "metadata": {
    "collapsed": true
   },
   "outputs": [],
   "source": [
    "def roots(a, b, c):\n",
    "    \"\"\"\n",
    "    Tính nghiệm của phương trình\n",
    "    a * x**2 + b * x + c = 0.\n",
    "    \"\"\" \n",
    "    delta = discriminant(a, b, c)\n",
    "\n",
    "    if delta < 0.0:\n",
    "        raise RuntimeError('Nghiệm ảo! Ta chỉ tính nghiệm thực thôiii!')\n",
    "    else:\n",
    "        root_1 = (-b + np.sqrt(delta)) / (2.0 * a)\n",
    "        root_2 = (-b - np.sqrt(delta)) / (2.0 * a)\n",
    "    \n",
    "        return root_1, root_2\n"
   ]
  },
  {
   "cell_type": "markdown",
   "metadata": {},
   "source": [
    "Lướt qua một tí về cú pháp của lệnh `if`. Nó được kết thúc bằng dấu hai chấm tương tự lệnh `def`, và hãy chú ý thụt lề cho câu lệnh tính toán sau câu lệnh `if`.\n",
    "Hãy thử chạy function vừa viết nào\n"
   ]
  },
  {
   "cell_type": "code",
   "execution_count": 26,
   "metadata": {},
   "outputs": [
    {
     "ename": "RuntimeError",
     "evalue": "Nghiệm ảo! Ta chỉ tính nghiệm thực thôiii!",
     "output_type": "error",
     "traceback": [
      "\u001b[1;31m---------------------------------------------------------------------------\u001b[0m",
      "\u001b[1;31mRuntimeError\u001b[0m                              Traceback (most recent call last)",
      "\u001b[1;32m<ipython-input-26-9664bd8559ba>\u001b[0m in \u001b[0;36m<module>\u001b[1;34m()\u001b[0m\n\u001b[0;32m      1\u001b[0m \u001b[1;31m# Cho a, b, c mà sẽ có nghiệm ảo\u001b[0m\u001b[1;33m\u001b[0m\u001b[1;33m\u001b[0m\u001b[0m\n\u001b[0;32m      2\u001b[0m \u001b[0ma\u001b[0m\u001b[1;33m,\u001b[0m \u001b[0mb\u001b[0m\u001b[1;33m,\u001b[0m \u001b[0mc\u001b[0m \u001b[1;33m=\u001b[0m \u001b[1;36m1.0\u001b[0m\u001b[1;33m,\u001b[0m \u001b[1;33m-\u001b[0m\u001b[1;36m2.0\u001b[0m\u001b[1;33m,\u001b[0m \u001b[1;36m2.0\u001b[0m\u001b[1;33m\u001b[0m\u001b[0m\n\u001b[1;32m----> 3\u001b[1;33m \u001b[0mroot_1\u001b[0m\u001b[1;33m,\u001b[0m \u001b[0mroot_2\u001b[0m \u001b[1;33m=\u001b[0m \u001b[0mroots\u001b[0m\u001b[1;33m(\u001b[0m\u001b[0ma\u001b[0m\u001b[1;33m,\u001b[0m \u001b[0mb\u001b[0m\u001b[1;33m,\u001b[0m \u001b[0mc\u001b[0m\u001b[1;33m)\u001b[0m\u001b[1;33m\u001b[0m\u001b[0m\n\u001b[0m",
      "\u001b[1;32m<ipython-input-25-577e2faa5daf>\u001b[0m in \u001b[0;36mroots\u001b[1;34m(a, b, c)\u001b[0m\n\u001b[0;32m      7\u001b[0m \u001b[1;33m\u001b[0m\u001b[0m\n\u001b[0;32m      8\u001b[0m     \u001b[1;32mif\u001b[0m \u001b[0mdelta\u001b[0m \u001b[1;33m<\u001b[0m \u001b[1;36m0.0\u001b[0m\u001b[1;33m:\u001b[0m\u001b[1;33m\u001b[0m\u001b[0m\n\u001b[1;32m----> 9\u001b[1;33m         \u001b[1;32mraise\u001b[0m \u001b[0mRuntimeError\u001b[0m\u001b[1;33m(\u001b[0m\u001b[1;34m'Nghiệm ảo! Ta chỉ tính nghiệm thực thôiii!'\u001b[0m\u001b[1;33m)\u001b[0m\u001b[1;33m\u001b[0m\u001b[0m\n\u001b[0m\u001b[0;32m     10\u001b[0m     \u001b[1;32melse\u001b[0m\u001b[1;33m:\u001b[0m\u001b[1;33m\u001b[0m\u001b[0m\n\u001b[0;32m     11\u001b[0m         \u001b[0mroot_1\u001b[0m \u001b[1;33m=\u001b[0m \u001b[1;33m(\u001b[0m\u001b[1;33m-\u001b[0m\u001b[0mb\u001b[0m \u001b[1;33m+\u001b[0m \u001b[0mnp\u001b[0m\u001b[1;33m.\u001b[0m\u001b[0msqrt\u001b[0m\u001b[1;33m(\u001b[0m\u001b[0mdelta\u001b[0m\u001b[1;33m)\u001b[0m\u001b[1;33m)\u001b[0m \u001b[1;33m/\u001b[0m \u001b[1;33m(\u001b[0m\u001b[1;36m2.0\u001b[0m \u001b[1;33m*\u001b[0m \u001b[0ma\u001b[0m\u001b[1;33m)\u001b[0m\u001b[1;33m\u001b[0m\u001b[0m\n",
      "\u001b[1;31mRuntimeError\u001b[0m: Nghiệm ảo! Ta chỉ tính nghiệm thực thôiii!"
     ]
    }
   ],
   "source": [
    "# Cho a, b, c mà sẽ có nghiệm ảo\n",
    "a, b, c = 1.0, -2.0, 2.0\n",
    "root_1, root_2 = roots(a, b, c)\n"
   ]
  },
  {
   "cell_type": "markdown",
   "metadata": {},
   "source": [
    "Chương trình cho một lỗi đúng như ta muốn."
   ]
  }
 ],
 "metadata": {
  "kernelspec": {
   "display_name": "Python 3",
   "language": "python",
   "name": "python3"
  },
  "language_info": {
   "codemirror_mode": {
    "name": "ipython",
    "version": 3
   },
   "file_extension": ".py",
   "mimetype": "text/x-python",
   "name": "python",
   "nbconvert_exporter": "python",
   "pygments_lexer": "ipython3",
   "version": "3.6.3"
  }
 },
 "nbformat": 4,
 "nbformat_minor": 2
}
