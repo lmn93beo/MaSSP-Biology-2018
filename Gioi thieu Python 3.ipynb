{
 "cells": [
  {
   "cell_type": "markdown",
   "metadata": {},
   "source": [
    "# MASSP SINH HỌC 2018\n",
    "## Giới thiệu về Python (Phần 3)\n",
    "\n",
    "*Soạn bởi: Trương Khanh Nhật Khang, Lê Minh Nhật, 2018*\n",
    "\n",
    "*Tài liệu dịch từ Justin Bois, Bi 1x 2017, http://bi1x.caltech.edu/2017/handouts/intro_to_python.html*"
   ]
  },
  {
   "cell_type": "markdown",
   "metadata": {},
   "source": [
    "### 5. Loops (vòng lặp)\n",
    "\n",
    "Nếu ta cần làm việc gì nhiều lần, ta có thể dùng đến vòng lặp. Học tốt nhất là qua ví dụ, hãy xây dựng chương trình đếm số lần xuất hiện của một đoạn DNA.\n",
    "\n"
   ]
  },
  {
   "cell_type": "code",
   "execution_count": 1,
   "metadata": {
    "collapsed": true
   },
   "outputs": [],
   "source": [
    "def n_substring(seq, substr):\n",
    "    \"\"\"\n",
    "    Given a sequence seq , returns the number of occurrances of substring.\n",
    "    \"\"\"\n",
    "    # First make sure the length of substring is shorter than seq.\n",
    "    if len(substr) > len(seq) :\n",
    "        return 0\n",
    "\n",
    "    # We loop through the sequence to check for matches\n",
    "    num_substr = 0\n",
    "    for i in range(0, len(seq)-len(substr)+1):\n",
    "        if seq [i:i+len(substr)] == substr:\n",
    "            num_substr += 1\n",
    "            \n",
    "    # We are done looping now , so return the number of subsequences\n",
    "    return num_substr\n"
   ]
  },
  {
   "cell_type": "code",
   "execution_count": 2,
   "metadata": {},
   "outputs": [
    {
     "name": "stdout",
     "output_type": "stream",
     "text": [
      "There are 3 GATs in the sequence.\n"
     ]
    }
   ],
   "source": [
    "# Specify sequences\n",
    "seq = 'ACTGTACGATCGAGCGATCGAGCGAGTCATTACGACTGAGATCC'\n",
    "substr = 'GAT'\n",
    "\n",
    "# Call function to get number of GAT substrings\n",
    "n_gat = n_substring(seq, substr)\n",
    "\n",
    "# Print the result\n",
    "print('There are %d GATs in the sequence.' % n_gat)\n"
   ]
  },
  {
   "cell_type": "markdown",
   "metadata": {},
   "source": [
    "Chúng ta đã biết nó hoạt động thế nào, hãy nhìn qua cách xây dựng một vòng lặp. Ở câu lệnh đầu tiên của vòng lặp, ta dùng function range () để xác định một trình lặp. Sử dụng  range(n) sẽ tạo một đối tượng tương tự dãy số tự nhiên từ 0 đên n-1. Câu lệnh for đề cập biến số i sẽ liên tiếp nhận các giá trị của dãy số.\n"
   ]
  },
  {
   "cell_type": "markdown",
   "metadata": {},
   "source": [
    "### 6. Hàm NumPy (Vẽ đồ thị)\n",
    "\n",
    "Đây là một sô hàm NumPy hữu ích mà bạn có thể dùng tới. Lướt qua chúng từng dòng một để xem chúng hoạt động thế nào.\n"
   ]
  },
  {
   "cell_type": "code",
   "execution_count": 5,
   "metadata": {},
   "outputs": [
    {
     "ename": "AxisError",
     "evalue": "axis 1 is out of bounds for array of dimension 1",
     "output_type": "error",
     "traceback": [
      "\u001b[1;31m---------------------------------------------------------------------------\u001b[0m",
      "\u001b[1;31mAxisError\u001b[0m                                 Traceback (most recent call last)",
      "\u001b[1;32m<ipython-input-5-6e1b31c868bb>\u001b[0m in \u001b[0;36m<module>\u001b[1;34m()\u001b[0m\n\u001b[0;32m     11\u001b[0m \u001b[1;33m\u001b[0m\u001b[0m\n\u001b[0;32m     12\u001b[0m \u001b[1;31m# concatenate in the column dimension\u001b[0m\u001b[1;33m\u001b[0m\u001b[1;33m\u001b[0m\u001b[0m\n\u001b[1;32m---> 13\u001b[1;33m \u001b[0mnp\u001b[0m\u001b[1;33m.\u001b[0m\u001b[0mconcatenate\u001b[0m\u001b[1;33m(\u001b[0m\u001b[1;33m(\u001b[0m\u001b[0ma\u001b[0m\u001b[1;33m,\u001b[0m \u001b[0ma\u001b[0m\u001b[1;33m)\u001b[0m\u001b[1;33m,\u001b[0m \u001b[0maxis\u001b[0m\u001b[1;33m=\u001b[0m\u001b[1;36m1\u001b[0m\u001b[1;33m)\u001b[0m\u001b[1;33m\u001b[0m\u001b[0m\n\u001b[0m\u001b[0;32m     14\u001b[0m \u001b[1;33m\u001b[0m\u001b[0m\n\u001b[0;32m     15\u001b[0m \u001b[1;31m# transpose (kết quả tính toán cuối cùng sẽ được hiển thị)\u001b[0m\u001b[1;33m\u001b[0m\u001b[1;33m\u001b[0m\u001b[0m\n",
      "\u001b[1;31mAxisError\u001b[0m: axis 1 is out of bounds for array of dimension 1"
     ]
    }
   ],
   "source": [
    "import numpy as np\n",
    "\n",
    "# tạo một khoảng với khoảng chia là 1\n",
    "a = np.linspace(0, 1, 10)\n",
    "\n",
    "# tạo ma trận hoặc vector\n",
    "np.dot(a, a)\n",
    "\n",
    "# concatenate in row dimensions\n",
    "np.concatenate((a, a))\n",
    "\n",
    "# concatenate in the column dimension\n",
    "np.concatenate((a, a), axis=1)\n",
    "\n",
    "# transpose (kết quả tính toán cuối cùng sẽ được hiển thị)\n",
    "np.transpose(a)\n"
   ]
  },
  {
   "cell_type": "markdown",
   "metadata": {},
   "source": [
    "Matplotlib là một công cụ nằm trong NumPy. Ta sẽ sử dụng nhiều đên module matplotlib.pyplot, mà ta sẽ viết tắt là plt. Cú pháp này khá đơn giản và các học tốt nhất là ví dụ. Đầu tiên, ta cần import module và thiết lập Matplotlib để đồ thị được hiện trong Jupyter notebook."
   ]
  },
  {
   "cell_type": "code",
   "execution_count": 12,
   "metadata": {
    "collapsed": true
   },
   "outputs": [],
   "source": [
    "import matplotlib.pyplot as plt\n",
    "import seaborn as sns\n",
    "\n",
    "# Import magic function for graphics in Jupyter notebook\n",
    "%matplotlib inline"
   ]
  },
  {
   "cell_type": "markdown",
   "metadata": {},
   "source": [
    "Và để đồ thị trông đẹp, bạn có thể dùng Seaborn\n",
    "Bây giờ ta đã thiết lập Matplotlib, ta hãy vẽ vài đồ thị nào"
   ]
  },
  {
   "cell_type": "code",
   "execution_count": 13,
   "metadata": {},
   "outputs": [
    {
     "data": {
      "image/png": "[encoded data removed]",
      "text/plain": [
       "<matplotlib.figure.Figure at 0x236fee7cac8>"
      ]
     },
     "metadata": {},
     "output_type": "display_data"
    }
   ],
   "source": [
    "# Make an x-variable for plotting\n",
    "x = np.linspace(0, 2*np.pi, 200)\n",
    "\n",
    "# This is a nice function\n",
    "y_1 = np.exp(np.sin(x))\n",
    "\n",
    "# We can make another one\n",
    "y_2 = np.exp(np.cos(x))\n",
    "\n",
    "# We can make some random data to plot as well\n",
    "x_rand = np.random.rand(20) * 2 * np.pi\n",
    "y_rand = np.random.rand(20) * 3.0\n",
    "\n",
    "# Now plot them .\n",
    "plt.plot(x, y_1, '-') # The ’-’ means to use a line plot\n",
    "plt.plot(x, y_2, '-')\n",
    "plt.plot(x_rand, y_rand, 'k.', markersize=12) # The ’k.’ mean plot as black dots\n",
    "\n",
    "# Label the axes.  \n",
    "plt.xlabel('x')\n",
    "plt.ylabel('y')\n",
    "\n",
    "# We can save it as a PDF as well\n",
    "plt.savefig('my_first_mpl_plot.pdf')"
   ]
  },
  {
   "cell_type": "markdown",
   "metadata": {},
   "source": [
    "Việc xuất dữ liệu để nhập vào tài liệu, bạn có thể click chuột phải vào PNG trong Jupyter notebook và save nó lại. Hơn nữa, bạn có thể save nó như PDF, điều này được ưa thích vì nó là một định dạng đồ họa vector. Để như vậy, ta dùng hàm plt.savefig().\n"
   ]
  },
  {
   "cell_type": "code",
   "execution_count": null,
   "metadata": {
    "collapsed": true
   },
   "outputs": [],
   "source": []
  }
 ],
 "metadata": {
  "kernelspec": {
   "display_name": "Python 3",
   "language": "python",
   "name": "python3"
  },
  "language_info": {
   "codemirror_mode": {
    "name": "ipython",
    "version": 3
   },
   "file_extension": ".py",
   "mimetype": "text/x-python",
   "name": "python",
   "nbconvert_exporter": "python",
   "pygments_lexer": "ipython3",
   "version": "3.6.3"
  }
 },
 "nbformat": 4,
 "nbformat_minor": 2
}
