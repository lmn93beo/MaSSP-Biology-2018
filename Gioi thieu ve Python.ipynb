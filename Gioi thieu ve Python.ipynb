{
 "cells": [
  {
   "cell_type": "markdown",
   "metadata": {},
   "source": [
    "# MASSP SINH HỌC 2018\n",
    "## Giới thiệu về Python (Phần 1)\n",
    "\n",
    "*Soạn bởi: Trương Khanh Nhật Khang, Lê Minh Nhật, 2018*\n",
    "\n",
    "*Tài liệu dịch từ Justin Bois, Bi 1x 2017, http://bi1x.caltech.edu/2017/handouts/intro_to_python.html*"
   ]
  },
  {
   "cell_type": "markdown",
   "metadata": {},
   "source": [
    "Ở cấp độ cơ bản nhất, bản Python 3.6 kèm theo các modules mà chúng ta sẽ sử dụng rất nhiều. 3 phần quan trọng nhất là NumPy, matplotlib và IPython. Quan trọng không kém là Jupyter notebook, ta sẽ sử dụng trong tất cả các giải thuật với MaSSP.\n",
    "\n",
    "Trong bài hướng dẫn, ta bắt đầu tìm hiểu cơ bản về ngôn ngữ lập trình Python và đồng thời khám phá tính chất của module rất hữu ích và phổ biến là NumPy, cấu trúc dữ liệu  mà ta dùng như “NumPy array”. Cuối cùng là cách tải dữ liệu và sử dụng matplotlib để vẽ đồ thị.\n"
   ]
  },
  {
   "cell_type": "markdown",
   "metadata": {},
   "source": [
    "### 2.1. Bắt đầu Lập trình\n",
    "\n",
    "Ta sẽ làm việc trên Jupyter notebook. Đầu tiên, hãy chạy Jupyter notebook bằng cách nhập\n",
    "\n",
    "```\n",
    "jupyter notebook\n",
    "```\n",
    "\n",
    "trong command line. Nó sẽ hiện Jupyter window trong trình duyệt của bạn. Sau đó, tạo một Jupyter notebook mới ở thanh menu kéo xuống mà bạn thấy ở góc trên bên phải.\n",
    "\n",
    "#### Hello, world\n",
    "\n",
    "Như một lập trình viên mới vào nghề, việc đầu tiên là chào đón thế giới bằng bộ kỹ năng mới bạn có! Ta sẽ bắt đầu bằng in đoạn “Hello, world.”. Trong ô code của Jupyter notebook, gõ theo hướng dẫn:\n",
    "Bạn có thấy  “`Hello, world.`” hiện ngay bên dưới câu lệnh của bạn? Python sẽ lấy input và xuất nó ra output trong ô ở Jupyter notebook.\n",
    "\n",
    "Ở đây ta thấy cú pháp để gọi hàm trong Python. Function arguments được dặt trong dấu hoặc đơn. Ta cũng học được một phần quan trọng của cú pháp Python, String (các chuỗi) được đặt trong dấu nháy đơn/kép.\n",
    "Bây giờ hãy thử:"
   ]
  },
  {
   "cell_type": "code",
   "execution_count": 2,
   "metadata": {},
   "outputs": [
    {
     "name": "stdout",
     "output_type": "stream",
     "text": [
      "Hello, world.\n"
     ]
    }
   ],
   "source": [
    "# This prints hello world\n",
    "print ('Hello, world.')"
   ]
  },
  {
   "cell_type": "markdown",
   "metadata": {},
   "source": [
    "Chú ý dù bạn nhập thế nào phía trước câu lệnh `print`, chỉ dòng “`Hello, world.`” được hiện. Dấu `#` bắt đầu cho comment string (chuỗi câu chú thích), tất cả chuỗi phía sau `#` sẽ không được Python đọc và biên dịch."
   ]
  },
  {
   "cell_type": "markdown",
   "metadata": {},
   "source": [
    "### 2.2. Variable Assignment (Gán biến)\n",
    "\n",
    "Để gán một biến trong Python, ta có thể dùng dấu `=`, giống như cách ta làm tròn bất cứ bài toán nào. Arithmetic operations (toán tử toán học) cũng như vậy: `+`, `-`, `*`, `/`\n",
    "\n",
    "Hãy thử"
   ]
  },
  {
   "cell_type": "code",
   "execution_count": 4,
   "metadata": {},
   "outputs": [
    {
     "name": "stdout",
     "output_type": "stream",
     "text": [
      "a is 3\n",
      "b is 27\n",
      "c is 16.5\n",
      "d is 16\n"
     ]
    }
   ],
   "source": [
    "a = 3\n",
    "b = a**3\n",
    "c = (b + 2*a) / 2\n",
    "d = (b + 2*a) // 2\n",
    "print('a is', a)\n",
    "print('b is',  b)\n",
    "print('c is', c)\n",
    "print ('d is', d)"
   ]
  },
  {
   "cell_type": "markdown",
   "metadata": {},
   "source": [
    "Trong phần gán cho biến `b`, ta dùng toán tử (phép toán) `**`. Có nghĩa là hàm mũ bậc `n` của `b`. Ở biến `d`, ta dùng toán tử `//` để chia số nguyên, làm tròn xuống kết quả chia (phép lấy phần nguyên)"
   ]
  },
  {
   "cell_type": "markdown",
   "metadata": {},
   "source": [
    "### 2.3. List, tuples, slicing, indexing (Lập danh sách, tuple, cắt và lập chỉ mục)\n",
    "\n",
    "Một list (danh sách) là một mutable array (mảng biến đổi), nghĩa là nó có thể được chỉnh sửa. Hãy khám phá bên dưới! Lưu ý là một list được tạo ở giữ [ ].\n"
   ]
  },
  {
   "cell_type": "code",
   "execution_count": 5,
   "metadata": {},
   "outputs": [
    {
     "name": "stdout",
     "output_type": "stream",
     "text": [
      "my_list is [1, 2, 3, 4]\n",
      "my_list is now [3.14, 2, 3, 4]\n",
      "the last element in my_list is 4\n"
     ]
    }
   ],
   "source": [
    "my_list = [1,2,3,4]\n",
    "print('my_list is', my_list)\n",
    "\n",
    "my_list[0] = 3.14\n",
    "print('my_list is now', my_list)\n",
    "print('the last element in my_list is', my_list[-1])\n"
   ]
  },
  {
   "cell_type": "markdown",
   "metadata": {},
   "source": [
    "Chú ý rằng indexing (lập chỉ mục?) thực hiện trong dấu ngoặc [ ]. Quan trọng hơn, trong Python, indexing bắt đầu đếm từ 0! Là cũng chú ý là ta có thể xuất phần tử cuối cùng của list với -1.\n",
    "\n",
    "Một tuple cũng giống như list, nhưng không thay đổi được, nghĩa là chỉ có thể tạo một lần và không chỉnh sửa được. Hãy thử giống như phần trên, nhưng với một tuple, tạo bởi (). Nhưng chú ý là indexing của tuple vẫn được đặt trong [ ].\n"
   ]
  },
  {
   "cell_type": "code",
   "execution_count": 6,
   "metadata": {},
   "outputs": [
    {
     "name": "stdout",
     "output_type": "stream",
     "text": [
      "my tuple is (1, 2, 3, 4)\n"
     ]
    },
    {
     "ename": "TypeError",
     "evalue": "'tuple' object does not support item assignment",
     "output_type": "error",
     "traceback": [
      "\u001b[1;31m---------------------------------------------------------------------------\u001b[0m",
      "\u001b[1;31mTypeError\u001b[0m                                 Traceback (most recent call last)",
      "\u001b[1;32m<ipython-input-6-deafc07bf361>\u001b[0m in \u001b[0;36m<module>\u001b[1;34m()\u001b[0m\n\u001b[0;32m      4\u001b[0m \u001b[1;33m\u001b[0m\u001b[0m\n\u001b[0;32m      5\u001b[0m \u001b[1;31m# This will make Python scream at us because tuples are immutable.\u001b[0m\u001b[1;33m\u001b[0m\u001b[1;33m\u001b[0m\u001b[0m\n\u001b[1;32m----> 6\u001b[1;33m \u001b[0mmy_tuple\u001b[0m\u001b[1;33m[\u001b[0m\u001b[1;36m0\u001b[0m\u001b[1;33m]\u001b[0m \u001b[1;33m=\u001b[0m \u001b[1;36m3.14\u001b[0m\u001b[1;33m\u001b[0m\u001b[0m\n\u001b[0m",
      "\u001b[1;31mTypeError\u001b[0m: 'tuple' object does not support item assignment"
     ]
    }
   ],
   "source": [
    "# Create a tuple and print it\n",
    "my_tuple = (1,2,3,4)\n",
    "print('my tuple is', my_tuple) \n",
    "\n",
    "# This will make Python scream at us because tuples are immutable.\n",
    "my_tuple[0] = 3.14\n"
   ]
  },
  {
   "cell_type": "markdown",
   "metadata": {},
   "source": [
    "Lỗi gì thế? Python “phản đối” vì không thể thay thế 1 trong my_tuple[0] bằng 3.14; toán tử này không được hỗ trợ. Nếu bạn nhập lạo my_tuple again, sẽ nhận được kết quả không thay đổi.\n",
    "Một String (chuỗi) chỉ là một chùm chữ cái, hoặc chữ và số được xâu chuỗi cùng nhau. Nó cũng có thể được lập chỉ mục (indexed), như ta đã làm phía trên với list và tuple. Haãy nhìn qua đoạn yêu thích sủa chúng tôi.\n"
   ]
  },
  {
   "cell_type": "code",
   "execution_count": 7,
   "metadata": {},
   "outputs": [
    {
     "name": "stdout",
     "output_type": "stream",
     "text": [
      "The fifth letter in the phrase is o\n",
      "The first four letters are Hell\n"
     ]
    }
   ],
   "source": [
    "my_string = 'Hello, world.'\n",
    "print('The fifth letter in the phrase is', my_string[4])\n",
    "print('The first four letters are', my_string[0:4])\n"
   ]
  },
  {
   "cell_type": "markdown",
   "metadata": {},
   "source": [
    "Quan trọng này!, Python dịch [ 0 : 4 ] như [0,4), nên hãy cẩn thận khi trích xuất các chuỗi với độ dài cụ thể. Trích một đoạn nhỏ từ đoạn lớn gọi là slicing (cắt), and vẫn có thể làm với lists và tuples. Việc náy có vẻ rất hữu ích khi ta có thể kéo ra từng đoạn bằng nhau.\n"
   ]
  },
  {
   "cell_type": "code",
   "execution_count": 9,
   "metadata": {},
   "outputs": [
    {
     "name": "stdout",
     "output_type": "stream",
     "text": [
      "[1, 2, 3, 4, 5]\n",
      "[6, 7, 8, 9, 10]\n",
      "[1, 3, 5, 7, 9]\n",
      "[2, 5, 8]\n"
     ]
    }
   ],
   "source": [
    "my_list = [1, 2, 3, 4, 5, 6, 7, 8, 9, 10]\n",
    "a = my_list[0:5]\n",
    "print(a)\n",
    "\n",
    "b = my_list[5:]\n",
    "print(b)\n",
    "\n",
    "c = my_list[0:10:2]\n",
    "print(c)\n",
    "\n",
    "d = my_list[1:10:3]\n",
    "print(d)\n"
   ]
  },
  {
   "cell_type": "markdown",
   "metadata": {},
   "source": [
    "Đảm bảo rằng bạn nhớ làm cách nào để tạo list c và d. Ta chọn các mục từ 0 đến 9 trong list, mỗi lần chọn lần lượt 2 hoặc 3.\n"
   ]
  },
  {
   "cell_type": "markdown",
   "metadata": {},
   "source": [
    "### 2.3. Objects, types và methods (đối tượng, phân loại và phương pháp)\n",
    "\n",
    "Python là object-oriented (hướng đối tượng), và tất cả giả trị trong chương trình là đối tượng?. Một object bao gồm identity (danh tính) được lưu trong bộ nhớ, một type (loại) để xác định cách mà object được trình bày, và data (dữ liệu) là giá trị của object. Một object của mội type cho trước có thể có nhiều phương pháp để hoạt động trên data (dữ liệu) của một object. Bằng cách nào để ta theo dõi loại biến ta có là gì? May mắn là Python có function (hàm) cho việc này, gọi là type(). Hãy thử với nó. Đầu tiên là tạo một vài object mới.\n"
   ]
  },
  {
   "cell_type": "code",
   "execution_count": 10,
   "metadata": {},
   "outputs": [
    {
     "name": "stdout",
     "output_type": "stream",
     "text": [
      "the type of a is <class 'int'>\n",
      "the type of b is <class 'float'>\n",
      "the type of my_list is <class 'list'>\n",
      "the type of my_list[0] is <class 'int'>\n",
      "the type of my_list[1] is <class 'float'>\n",
      "the type of my_list[2] is <class 'str'>\n"
     ]
    }
   ],
   "source": [
    "a = 4\n",
    "b = 4.6\n",
    "\n",
    "my_list = [1, 3.49, 'bi1x']\n",
    "\n",
    "print('the type of a is', type(a))\n",
    "print('the type of b is', type(b))\n",
    "print('the type of my_list is', type(my_list))\n",
    "print('the type of my_list[0] is', type(my_list[0]))\n",
    "print('the type of my_list[1] is', type(my_list[1]))\n",
    "print('the type of my_list[2] is', type(my_list[2]))\n"
   ]
  },
  {
   "cell_type": "markdown",
   "metadata": {},
   "source": [
    "Phần quan trọng nhất cần lưu ý ở đây là my_list là một list, và nó có thể chứa đựng nhiều objects khác nhau từ chữ số đến chuỗi.\n",
    "Data (dữ liệu) rất thẳng về phía trước?; nó là những chữ số đến giá trị mà bạn liên kết đến biến.\n",
    "Cuối cùng, object có methods (phương pháp) để có thể thực hiện những câu lệnh trên data. Một method được gọi như một functon (hàm). Cách tốt nhất dể hình dung ở ví dụ sau.\n"
   ]
  },
  {
   "cell_type": "code",
   "execution_count": 11,
   "metadata": {},
   "outputs": [
    {
     "name": "stdout",
     "output_type": "stream",
     "text": [
      "the number of 5's in the list is 2\n",
      "the number of 4's in the list is 1\n",
      "[1, 1, 3, 3, 4, 5, 5, 13, 17, 19, 31]\n",
      "[1, 1, 3, 3, 4, 5, 5, 13, 17, 19, 31, 'bi1x']\n"
     ]
    }
   ],
   "source": [
    "my_list = [1 , 5 , 4 , 13 , 3 , 5 , 19 , 31 , 3 , 1 , 17]\n",
    "\n",
    "print('the number of 5\\'s in the list is', my_list.count(5))\n",
    "print('the number of 4\\'s in the list is', my_list.count(4))\n",
    "\n",
    "# Sort the list in place\n",
    "my_list.sort()\n",
    "print(my_list)\n",
    "\n",
    "# Tack on a string to the end of the list\n",
    "my_list.append('bi1x')\n",
    "print(my_list)\n"
   ]
  },
  {
   "cell_type": "markdown",
   "metadata": {},
   "source": [
    "Như đã thấy, một list object có nhiều phương pháp bao gồm count () và sort(). Chúng được  goị theo chức năng, với các đối sỗ nằm trong dấu ngoặc. Tên của phương pháp đến từ tên của object tiếp nổi bỏi dấu chấm (.).\n",
    "Phương pháp count() sử dụng một đối số riêng biệt và lặp lại nhiều lần số đó xuất hiện trong list. Hàm sort() không dùng argument (đối số) (nhưng vẫn yêu cầu nằm trong dấu ngoặc để sử dụng) để sắp xếp lại list. Chú ý là my_list đã thay đổi và sắp xếp lại. Ta còn có thể dùng câu lệnh append() để thêm nhân tố khác vào vị trí cuối của list.\n",
    "Với Jupyter notebooks, IPython thuận tiện khi cho phép bạn thấy câu lệnh và data nào phù hợp bằng cách nhập tên object sau dấu chấm (.) và nhấn phím tab. Thử xem sao!\n"
   ]
  },
  {
   "cell_type": "markdown",
   "metadata": {},
   "source": [
    "Modules (mô-đun)\n",
    "\n",
    "Sẽ là điều bình thường khi các phần mềm khoa khọc như Matlab hay Mathematica được tối ưu cho tính toán khoa học (như tính toán ma trậnaanjowr matlab) và sẽ khá đầy đủ chức năng. Mặt hác, Python là ngôn ngữ lập trình và không được thiết kế cho việc tính toán khoa học nên sự đơn giản và lỗi thời của Python sẽ là giới hạn trong việc tính toán.\n",
    "Tuy nhiên, Python rất dễ tính và cho phép cài đặt modules (mô-đun). Một module chứa nhiều classes (lớp, tầng,loại?), function (hàm), attributes (thuộc tính), data types (loại dữ liệu)… ngoài những thứ được xây dựng sẵn cho Python.  Để sử dụng nó, bạn cần import (tải, đưa vào) các module. Nên với việc phân tích dưc liệu và mô phỏng trong Bi 1x, ta cần import modules (tải các mô-đun) mà bạn sẽ dùng.\n",
    "Việc này quan trọng và cần lưu ý trước khii ta import một module, chức năng của module sẽ không có sẵn, hãy nhớ là Python sẽ cũ kỹ và chaamk chạp chi đến khi import một module.\n",
    "Bây giờ hãy import một trong những module chính trong khóa học này, NumPy!\n"
   ]
  },
  {
   "cell_type": "code",
   "execution_count": 13,
   "metadata": {},
   "outputs": [
    {
     "name": "stdout",
     "output_type": "stream",
     "text": [
      "circumference / diameter =  3.141592653589793\n",
      "cos(pi) =  -1.0\n"
     ]
    }
   ],
   "source": [
    "# Importing is done with the import statement\n",
    "import numpy as np\n",
    "\n",
    "# We now have access to some handy things, i.e. np.pi\n",
    "print('circumference / diameter = ', np.pi)\n",
    "print('cos(pi) = ', np.cos(np.pi))\n",
    "\n",
    "\n"
   ]
  },
  {
   "cell_type": "markdown",
   "metadata": {},
   "source": [
    "Chú lý khi dùng cấu trúc import <module> as <abbrev>. Cho phép ta làm tắt việc đặt tên cho module nên ta không cần gõ numpy mỗi khi cần.\n",
    "Cũng cần lưu ý khi sử dụng giá trị xấp xỉ nπ trong numpy module, ta bắt đầu tên của attribute (thuộc tính) (pi) mới module đặt tên sau dấu chấm (np.). Đó là tổng thể cách mà ta sử dụng attribute trong modules.\n"
   ]
  },
  {
   "cell_type": "code",
   "execution_count": null,
   "metadata": {
    "collapsed": true
   },
   "outputs": [],
   "source": []
  }
 ],
 "metadata": {
  "kernelspec": {
   "display_name": "Python 3",
   "language": "python",
   "name": "python3"
  },
  "language_info": {
   "codemirror_mode": {
    "name": "ipython",
    "version": 3
   },
   "file_extension": ".py",
   "mimetype": "text/x-python",
   "name": "python",
   "nbconvert_exporter": "python",
   "pygments_lexer": "ipython3",
   "version": "3.6.3"
  }
 },
 "nbformat": 4,
 "nbformat_minor": 2
}
