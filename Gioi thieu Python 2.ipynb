{
 "cells": [
  {
   "cell_type": "markdown",
   "metadata": {},
   "source": [
    "# MASSP SINH HỌC 2018\n",
    "## Giới thiệu về Python (Phần 2)\n",
    "\n",
    "*Soạn bởi: Trương Khanh Nhật Khang, Lê Minh Nhật, 2018*\n",
    "\n",
    "*Tài liệu dịch từ Justin Bois, Bi 1x 2017, http://bi1x.caltech.edu/2017/handouts/intro_to_python.html*"
   ]
  },
  {
   "cell_type": "code",
   "execution_count": 6,
   "metadata": {
    "collapsed": true
   },
   "outputs": [],
   "source": [
    "import numpy as np"
   ]
  },
  {
   "cell_type": "markdown",
   "metadata": {},
   "source": [
    "### 3. Viết chương trình của bản thân (và học a bunch of syntax (một loạt cú pháp))\n",
    "\n",
    "Ta sẽ tạo chương trình để tìm nghiệm của phương trình bậc hai ax2+bx+c=0.\n",
    "Để làm điều này, đầu tiên ta viết hàm để tính toán điều kiện nghiệm, sau đó sẽ tính nghiệm.\n"
   ]
  },
  {
   "cell_type": "code",
   "execution_count": 3,
   "metadata": {
    "collapsed": true
   },
   "outputs": [],
   "source": [
    "def discriminant(a, b, c):\n",
    "    \"\"\"\n",
    "    Returns the discriminant of a quadratic polynomial\n",
    "    a * x**2 + b * x + c = 0.    \n",
    "    \"\"\"\n",
    "    return b**2 - 4.0 * a * c\n",
    "\n",
    "\n",
    "def roots(a, b, c):\n",
    "    \"\"\"\n",
    "    Returns the roots of the quadratic equation\n",
    "    a * x**2 + b * x + c = 0.\n",
    "    \"\"\" \n",
    "    delta = discriminant(a, b, c)\n",
    "    root_1 = (-b + np.sqrt(delta)) / (2.0 * a)\n",
    "    root_2 = (-b - np.sqrt(delta)) / (2.0 * a)\n",
    "    \n",
    "    return root_1, root_2\n"
   ]
  },
  {
   "cell_type": "markdown",
   "metadata": {},
   "source": [
    "Có một loạt cú pháp ở đây đê chỉ ra.\n",
    "Một function được xác định bởi lệnh def. Nó chứa cú pháp của function và theo sau dấu hai chấm.\n",
    "Thụt lề trong Python! Bất cứ thụt lề nào sau lệnh def đều thuộc fuction đó. Một khi thụt lề trở về ngang hàng câu lệnh def, bạn không còn ở trong fuction đó nữa.\n",
    "Câu lệnh return dùng để trả về kết quả của function. Khi nhiều object được trả về, nó sẽ bị phân biệt bởi dấu phẩy.\n",
    "Văn bản trong dấu ngoặc kép gọi là doc string (chuỗi doc). Nó giải thích chức năng của function. Và đóng vai trò quan trọng với mọi người để hiểu code đang làm gì.\n",
    "Bây giờ hãy thử các function mới!\n"
   ]
  },
  {
   "cell_type": "code",
   "execution_count": 7,
   "metadata": {},
   "outputs": [
    {
     "name": "stdout",
     "output_type": "stream",
     "text": [
      "roots: 3.0 -0.666666666667\n"
     ]
    }
   ],
   "source": [
    "# Python has nifty syntax for making multiple definitions on the same line\n",
    "a, b, c = 3.0, -7.0, -6.0\n",
    "\n",
    "# Call the function and print the result.\n",
    "root_1, root_2 = roots(a, b, c)\n",
    "print('roots:', root_1, root_2)\n"
   ]
  },
  {
   "cell_type": "markdown",
   "metadata": {},
   "source": [
    "Bây giờ hãy thử một thứ khác, nó sẽ có vấn đề là…\n"
   ]
  },
  {
   "cell_type": "code",
   "execution_count": 8,
   "metadata": {},
   "outputs": [
    {
     "name": "stdout",
     "output_type": "stream",
     "text": [
      "roots: nan nan\n"
     ]
    },
    {
     "name": "stderr",
     "output_type": "stream",
     "text": [
      "C:\\Users\\Le\\Anaconda3b\\lib\\site-packages\\ipykernel_launcher.py:15: RuntimeWarning: invalid value encountered in sqrt\n",
      "  from ipykernel import kernelapp as app\n",
      "C:\\Users\\Le\\Anaconda3b\\lib\\site-packages\\ipykernel_launcher.py:16: RuntimeWarning: invalid value encountered in sqrt\n",
      "  app.launch_new_instance()\n"
     ]
    }
   ],
   "source": [
    "# Specify a, b, and c that will give imaginary roots\n",
    "a, b, c = 1.0, -2.0, 2.0\n",
    "\n",
    "# Call the function and print the result\n",
    "root_1, root_2 = roots(a, b, c)\n",
    "print('roots:', root_1, root_2)\n"
   ]
  },
  {
   "cell_type": "markdown",
   "metadata": {},
   "source": [
    "Chương trình đưa ta nan, nghĩa là nghiệm  “không phải một số”. Và cũng đưa ra cảnh báo rằng chương trình gặp phải các argument không hợp lệ (phần ảo) vì function np.sqrt(). Nghiệm sẽ là 1 ± i, với i=√−1. Ta sẽ dùng cơ hội này để giới thiệu về sự điều khiển trong Python, bắt đầu với câu lệnh if.\n"
   ]
  },
  {
   "cell_type": "markdown",
   "metadata": {},
   "source": [
    "### Sự điều khiển: câu lệnh if\n",
    "\n",
    "Ta đồng ý rằng phương trình bậc hai chỉ có thể xử lý nghiệm thực, nên chương trình sẽ không chấp nhận nếu nghiệm phức xuất hiện. Vậy ta sẽ sửa đổi function root () như sau\n"
   ]
  },
  {
   "cell_type": "code",
   "execution_count": 10,
   "metadata": {
    "collapsed": true
   },
   "outputs": [],
   "source": [
    "def roots(a, b, c):\n",
    "    \"\"\"\n",
    "    Returns the roots of the quadratic equation\n",
    "    a * x**2 + b * x + c = 0.\n",
    "    \"\"\" \n",
    "    delta = discriminant(a, b, c)\n",
    "\n",
    "    if delta < 0.0:\n",
    "        raise RuntimeError('Imaginary roots!  We only do real roots!')\n",
    "    else:\n",
    "        root_1 = (-b + np.sqrt(delta)) / (2.0 * a)\n",
    "        root_2 = (-b - np.sqrt(delta)) / (2.0 * a)\n",
    "    \n",
    "        return root_1, root_2\n"
   ]
  },
  {
   "cell_type": "markdown",
   "metadata": {},
   "source": [
    "Hiện tại chũng ta đang tiếp xú với cú pháp của câu lệnh if. Điều kiện là biểu thức được kết thúc bằng dấu hai chấm giống như lệnh def. Hãy chú ý thụt lề cho câu lệnh sau điều kiện. (thật ra chúng ta không cần đến lệnh else vì chương trình sẽ tiếp tục mà không có trường hợp khác xảy ra.)\n",
    "Hãy thử với một chương trình khác nào\n"
   ]
  },
  {
   "cell_type": "code",
   "execution_count": 11,
   "metadata": {},
   "outputs": [
    {
     "ename": "RuntimeError",
     "evalue": "Imaginary roots!  We only do real roots!",
     "output_type": "error",
     "traceback": [
      "\u001b[1;31m---------------------------------------------------------------------------\u001b[0m",
      "\u001b[1;31mRuntimeError\u001b[0m                              Traceback (most recent call last)",
      "\u001b[1;32m<ipython-input-11-f2c0024f0e92>\u001b[0m in \u001b[0;36m<module>\u001b[1;34m()\u001b[0m\n\u001b[0;32m      1\u001b[0m \u001b[1;31m# Pass in parameters that will give imaginary roots (use qd.roots)\u001b[0m\u001b[1;33m\u001b[0m\u001b[1;33m\u001b[0m\u001b[0m\n\u001b[0;32m      2\u001b[0m \u001b[0ma\u001b[0m\u001b[1;33m,\u001b[0m \u001b[0mb\u001b[0m\u001b[1;33m,\u001b[0m \u001b[0mc\u001b[0m \u001b[1;33m=\u001b[0m \u001b[1;36m1.0\u001b[0m\u001b[1;33m,\u001b[0m \u001b[1;33m-\u001b[0m\u001b[1;36m2.0\u001b[0m\u001b[1;33m,\u001b[0m \u001b[1;36m2.0\u001b[0m\u001b[1;33m\u001b[0m\u001b[0m\n\u001b[1;32m----> 3\u001b[1;33m \u001b[0mroot_1\u001b[0m\u001b[1;33m,\u001b[0m \u001b[0mroot_2\u001b[0m \u001b[1;33m=\u001b[0m \u001b[0mroots\u001b[0m\u001b[1;33m(\u001b[0m\u001b[0ma\u001b[0m\u001b[1;33m,\u001b[0m \u001b[0mb\u001b[0m\u001b[1;33m,\u001b[0m \u001b[0mc\u001b[0m\u001b[1;33m)\u001b[0m\u001b[1;33m\u001b[0m\u001b[0m\n\u001b[0m",
      "\u001b[1;32m<ipython-input-10-19d0df182b5c>\u001b[0m in \u001b[0;36mroots\u001b[1;34m(a, b, c)\u001b[0m\n\u001b[0;32m      7\u001b[0m \u001b[1;33m\u001b[0m\u001b[0m\n\u001b[0;32m      8\u001b[0m     \u001b[1;32mif\u001b[0m \u001b[0mdelta\u001b[0m \u001b[1;33m<\u001b[0m \u001b[1;36m0.0\u001b[0m\u001b[1;33m:\u001b[0m\u001b[1;33m\u001b[0m\u001b[0m\n\u001b[1;32m----> 9\u001b[1;33m         \u001b[1;32mraise\u001b[0m \u001b[0mRuntimeError\u001b[0m\u001b[1;33m(\u001b[0m\u001b[1;34m'Imaginary roots!  We only do real roots!'\u001b[0m\u001b[1;33m)\u001b[0m\u001b[1;33m\u001b[0m\u001b[0m\n\u001b[0m\u001b[0;32m     10\u001b[0m     \u001b[1;32melse\u001b[0m\u001b[1;33m:\u001b[0m\u001b[1;33m\u001b[0m\u001b[0m\n\u001b[0;32m     11\u001b[0m         \u001b[0mroot_1\u001b[0m \u001b[1;33m=\u001b[0m \u001b[1;33m(\u001b[0m\u001b[1;33m-\u001b[0m\u001b[0mb\u001b[0m \u001b[1;33m+\u001b[0m \u001b[0mnp\u001b[0m\u001b[1;33m.\u001b[0m\u001b[0msqrt\u001b[0m\u001b[1;33m(\u001b[0m\u001b[0mdelta\u001b[0m\u001b[1;33m)\u001b[0m\u001b[1;33m)\u001b[0m \u001b[1;33m/\u001b[0m \u001b[1;33m(\u001b[0m\u001b[1;36m2.0\u001b[0m \u001b[1;33m*\u001b[0m \u001b[0ma\u001b[0m\u001b[1;33m)\u001b[0m\u001b[1;33m\u001b[0m\u001b[0m\n",
      "\u001b[1;31mRuntimeError\u001b[0m: Imaginary roots!  We only do real roots!"
     ]
    }
   ],
   "source": [
    "# Pass in parameters that will give imaginary roots (use qd.roots)\n",
    "a, b, c = 1.0, -2.0, 2.0\n",
    "root_1, root_2 = roots(a, b, c)\n"
   ]
  },
  {
   "cell_type": "code",
   "execution_count": null,
   "metadata": {
    "collapsed": true
   },
   "outputs": [],
   "source": []
  }
 ],
 "metadata": {
  "kernelspec": {
   "display_name": "Python 3",
   "language": "python",
   "name": "python3"
  },
  "language_info": {
   "codemirror_mode": {
    "name": "ipython",
    "version": 3
   },
   "file_extension": ".py",
   "mimetype": "text/x-python",
   "name": "python",
   "nbconvert_exporter": "python",
   "pygments_lexer": "ipython3",
   "version": "3.6.3"
  }
 },
 "nbformat": 4,
 "nbformat_minor": 2
}
